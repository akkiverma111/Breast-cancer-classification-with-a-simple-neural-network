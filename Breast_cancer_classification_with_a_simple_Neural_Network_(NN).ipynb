{
  "nbformat": 4,
  "nbformat_minor": 0,
  "metadata": {
    "colab": {
      "provenance": []
    },
    "kernelspec": {
      "name": "python3",
      "display_name": "Python 3"
    },
    "language_info": {
      "name": "python"
    }
  },
  "cells": [
    {
      "cell_type": "markdown",
      "source": [
        "**Breast Cancer Classification with a simple Neural Network (NN)**"
      ],
      "metadata": {
        "id": "2d-tS-qhEAzU"
      }
    },
    {
      "cell_type": "markdown",
      "source": [
        "**Importing the dependencies**"
      ],
      "metadata": {
        "id": "rFfvSb4UEGZZ"
      }
    },
    {
      "cell_type": "code",
      "source": [
        "import numpy as np\n",
        "import pandas as pd\n",
        "import matplotlib.pyplot as plt\n",
        "import sklearn.datasets\n",
        "from sklearn.model_selection import train_test_split"
      ],
      "metadata": {
        "id": "OOsdXaM7EKIr"
      },
      "execution_count": 1,
      "outputs": []
    },
    {
      "cell_type": "markdown",
      "source": [
        "**Data Collection and Processing**"
      ],
      "metadata": {
        "id": "3S2iWPtFEVp_"
      }
    },
    {
      "cell_type": "code",
      "source": [
        "# loading the data from sklearn\n",
        "breast_cancer_dataset = sklearn.datasets.load_breast_cancer()"
      ],
      "metadata": {
        "id": "7rZr1c67EaLj"
      },
      "execution_count": 2,
      "outputs": []
    },
    {
      "cell_type": "code",
      "source": [
        "print(breast_cancer_dataset)"
      ],
      "metadata": {
        "colab": {
          "base_uri": "https://localhost:8080/"
        },
        "id": "V5kK5kVrEhWt",
        "outputId": "52aa9cc7-4791-46d7-fa3a-9209fe10fac7"
      },
      "execution_count": 3,
      "outputs": [
        {
          "output_type": "stream",
          "name": "stdout",
          "text": [
            "{'data': array([[1.799e+01, 1.038e+01, 1.228e+02, ..., 2.654e-01, 4.601e-01,\n",
            "        1.189e-01],\n",
            "       [2.057e+01, 1.777e+01, 1.329e+02, ..., 1.860e-01, 2.750e-01,\n",
            "        8.902e-02],\n",
            "       [1.969e+01, 2.125e+01, 1.300e+02, ..., 2.430e-01, 3.613e-01,\n",
            "        8.758e-02],\n",
            "       ...,\n",
            "       [1.660e+01, 2.808e+01, 1.083e+02, ..., 1.418e-01, 2.218e-01,\n",
            "        7.820e-02],\n",
            "       [2.060e+01, 2.933e+01, 1.401e+02, ..., 2.650e-01, 4.087e-01,\n",
            "        1.240e-01],\n",
            "       [7.760e+00, 2.454e+01, 4.792e+01, ..., 0.000e+00, 2.871e-01,\n",
            "        7.039e-02]]), 'target': array([0, 0, 0, 0, 0, 0, 0, 0, 0, 0, 0, 0, 0, 0, 0, 0, 0, 0, 0, 1, 1, 1,\n",
            "       0, 0, 0, 0, 0, 0, 0, 0, 0, 0, 0, 0, 0, 0, 0, 1, 0, 0, 0, 0, 0, 0,\n",
            "       0, 0, 1, 0, 1, 1, 1, 1, 1, 0, 0, 1, 0, 0, 1, 1, 1, 1, 0, 1, 0, 0,\n",
            "       1, 1, 1, 1, 0, 1, 0, 0, 1, 0, 1, 0, 0, 1, 1, 1, 0, 0, 1, 0, 0, 0,\n",
            "       1, 1, 1, 0, 1, 1, 0, 0, 1, 1, 1, 0, 0, 1, 1, 1, 1, 0, 1, 1, 0, 1,\n",
            "       1, 1, 1, 1, 1, 1, 1, 0, 0, 0, 1, 0, 0, 1, 1, 1, 0, 0, 1, 0, 1, 0,\n",
            "       0, 1, 0, 0, 1, 1, 0, 1, 1, 0, 1, 1, 1, 1, 0, 1, 1, 1, 1, 1, 1, 1,\n",
            "       1, 1, 0, 1, 1, 1, 1, 0, 0, 1, 0, 1, 1, 0, 0, 1, 1, 0, 0, 1, 1, 1,\n",
            "       1, 0, 1, 1, 0, 0, 0, 1, 0, 1, 0, 1, 1, 1, 0, 1, 1, 0, 0, 1, 0, 0,\n",
            "       0, 0, 1, 0, 0, 0, 1, 0, 1, 0, 1, 1, 0, 1, 0, 0, 0, 0, 1, 1, 0, 0,\n",
            "       1, 1, 1, 0, 1, 1, 1, 1, 1, 0, 0, 1, 1, 0, 1, 1, 0, 0, 1, 0, 1, 1,\n",
            "       1, 1, 0, 1, 1, 1, 1, 1, 0, 1, 0, 0, 0, 0, 0, 0, 0, 0, 0, 0, 0, 0,\n",
            "       0, 0, 1, 1, 1, 1, 1, 1, 0, 1, 0, 1, 1, 0, 1, 1, 0, 1, 0, 0, 1, 1,\n",
            "       1, 1, 1, 1, 1, 1, 1, 1, 1, 1, 1, 0, 1, 1, 0, 1, 0, 1, 1, 1, 1, 1,\n",
            "       1, 1, 1, 1, 1, 1, 1, 1, 1, 0, 1, 1, 1, 0, 1, 0, 1, 1, 1, 1, 0, 0,\n",
            "       0, 1, 1, 1, 1, 0, 1, 0, 1, 0, 1, 1, 1, 0, 1, 1, 1, 1, 1, 1, 1, 0,\n",
            "       0, 0, 1, 1, 1, 1, 1, 1, 1, 1, 1, 1, 1, 0, 0, 1, 0, 0, 0, 1, 0, 0,\n",
            "       1, 1, 1, 1, 1, 0, 1, 1, 1, 1, 1, 0, 1, 1, 1, 0, 1, 1, 0, 0, 1, 1,\n",
            "       1, 1, 1, 1, 0, 1, 1, 1, 1, 1, 1, 1, 0, 1, 1, 1, 1, 1, 0, 1, 1, 0,\n",
            "       1, 1, 1, 1, 1, 1, 1, 1, 1, 1, 1, 1, 0, 1, 0, 0, 1, 0, 1, 1, 1, 1,\n",
            "       1, 0, 1, 1, 0, 1, 0, 1, 1, 0, 1, 0, 1, 1, 1, 1, 1, 1, 1, 1, 0, 0,\n",
            "       1, 1, 1, 1, 1, 1, 0, 1, 1, 1, 1, 1, 1, 1, 1, 1, 1, 0, 1, 1, 1, 1,\n",
            "       1, 1, 1, 0, 1, 0, 1, 1, 0, 1, 1, 1, 1, 1, 0, 0, 1, 0, 1, 0, 1, 1,\n",
            "       1, 1, 1, 0, 1, 1, 0, 1, 0, 1, 0, 0, 1, 1, 1, 0, 1, 1, 1, 1, 1, 1,\n",
            "       1, 1, 1, 1, 1, 0, 1, 0, 0, 1, 1, 1, 1, 1, 1, 1, 1, 1, 1, 1, 1, 1,\n",
            "       1, 1, 1, 1, 1, 1, 1, 1, 1, 1, 1, 1, 0, 0, 0, 0, 0, 0, 1]), 'frame': None, 'target_names': array(['malignant', 'benign'], dtype='<U9'), 'DESCR': '.. _breast_cancer_dataset:\\n\\nBreast cancer wisconsin (diagnostic) dataset\\n--------------------------------------------\\n\\n**Data Set Characteristics:**\\n\\n    :Number of Instances: 569\\n\\n    :Number of Attributes: 30 numeric, predictive attributes and the class\\n\\n    :Attribute Information:\\n        - radius (mean of distances from center to points on the perimeter)\\n        - texture (standard deviation of gray-scale values)\\n        - perimeter\\n        - area\\n        - smoothness (local variation in radius lengths)\\n        - compactness (perimeter^2 / area - 1.0)\\n        - concavity (severity of concave portions of the contour)\\n        - concave points (number of concave portions of the contour)\\n        - symmetry\\n        - fractal dimension (\"coastline approximation\" - 1)\\n\\n        The mean, standard error, and \"worst\" or largest (mean of the three\\n        worst/largest values) of these features were computed for each image,\\n        resulting in 30 features.  For instance, field 0 is Mean Radius, field\\n        10 is Radius SE, field 20 is Worst Radius.\\n\\n        - class:\\n                - WDBC-Malignant\\n                - WDBC-Benign\\n\\n    :Summary Statistics:\\n\\n    ===================================== ====== ======\\n                                           Min    Max\\n    ===================================== ====== ======\\n    radius (mean):                        6.981  28.11\\n    texture (mean):                       9.71   39.28\\n    perimeter (mean):                     43.79  188.5\\n    area (mean):                          143.5  2501.0\\n    smoothness (mean):                    0.053  0.163\\n    compactness (mean):                   0.019  0.345\\n    concavity (mean):                     0.0    0.427\\n    concave points (mean):                0.0    0.201\\n    symmetry (mean):                      0.106  0.304\\n    fractal dimension (mean):             0.05   0.097\\n    radius (standard error):              0.112  2.873\\n    texture (standard error):             0.36   4.885\\n    perimeter (standard error):           0.757  21.98\\n    area (standard error):                6.802  542.2\\n    smoothness (standard error):          0.002  0.031\\n    compactness (standard error):         0.002  0.135\\n    concavity (standard error):           0.0    0.396\\n    concave points (standard error):      0.0    0.053\\n    symmetry (standard error):            0.008  0.079\\n    fractal dimension (standard error):   0.001  0.03\\n    radius (worst):                       7.93   36.04\\n    texture (worst):                      12.02  49.54\\n    perimeter (worst):                    50.41  251.2\\n    area (worst):                         185.2  4254.0\\n    smoothness (worst):                   0.071  0.223\\n    compactness (worst):                  0.027  1.058\\n    concavity (worst):                    0.0    1.252\\n    concave points (worst):               0.0    0.291\\n    symmetry (worst):                     0.156  0.664\\n    fractal dimension (worst):            0.055  0.208\\n    ===================================== ====== ======\\n\\n    :Missing Attribute Values: None\\n\\n    :Class Distribution: 212 - Malignant, 357 - Benign\\n\\n    :Creator:  Dr. William H. Wolberg, W. Nick Street, Olvi L. Mangasarian\\n\\n    :Donor: Nick Street\\n\\n    :Date: November, 1995\\n\\nThis is a copy of UCI ML Breast Cancer Wisconsin (Diagnostic) datasets.\\nhttps://goo.gl/U2Uwz2\\n\\nFeatures are computed from a digitized image of a fine needle\\naspirate (FNA) of a breast mass.  They describe\\ncharacteristics of the cell nuclei present in the image.\\n\\nSeparating plane described above was obtained using\\nMultisurface Method-Tree (MSM-T) [K. P. Bennett, \"Decision Tree\\nConstruction Via Linear Programming.\" Proceedings of the 4th\\nMidwest Artificial Intelligence and Cognitive Science Society,\\npp. 97-101, 1992], a classification method which uses linear\\nprogramming to construct a decision tree.  Relevant features\\nwere selected using an exhaustive search in the space of 1-4\\nfeatures and 1-3 separating planes.\\n\\nThe actual linear program used to obtain the separating plane\\nin the 3-dimensional space is that described in:\\n[K. P. Bennett and O. L. Mangasarian: \"Robust Linear\\nProgramming Discrimination of Two Linearly Inseparable Sets\",\\nOptimization Methods and Software 1, 1992, 23-34].\\n\\nThis database is also available through the UW CS ftp server:\\n\\nftp ftp.cs.wisc.edu\\ncd math-prog/cpo-dataset/machine-learn/WDBC/\\n\\n.. topic:: References\\n\\n   - W.N. Street, W.H. Wolberg and O.L. Mangasarian. Nuclear feature extraction \\n     for breast tumor diagnosis. IS&T/SPIE 1993 International Symposium on \\n     Electronic Imaging: Science and Technology, volume 1905, pages 861-870,\\n     San Jose, CA, 1993.\\n   - O.L. Mangasarian, W.N. Street and W.H. Wolberg. Breast cancer diagnosis and \\n     prognosis via linear programming. Operations Research, 43(4), pages 570-577, \\n     July-August 1995.\\n   - W.H. Wolberg, W.N. Street, and O.L. Mangasarian. Machine learning techniques\\n     to diagnose breast cancer from fine-needle aspirates. Cancer Letters 77 (1994) \\n     163-171.', 'feature_names': array(['mean radius', 'mean texture', 'mean perimeter', 'mean area',\n",
            "       'mean smoothness', 'mean compactness', 'mean concavity',\n",
            "       'mean concave points', 'mean symmetry', 'mean fractal dimension',\n",
            "       'radius error', 'texture error', 'perimeter error', 'area error',\n",
            "       'smoothness error', 'compactness error', 'concavity error',\n",
            "       'concave points error', 'symmetry error',\n",
            "       'fractal dimension error', 'worst radius', 'worst texture',\n",
            "       'worst perimeter', 'worst area', 'worst smoothness',\n",
            "       'worst compactness', 'worst concavity', 'worst concave points',\n",
            "       'worst symmetry', 'worst fractal dimension'], dtype='<U23'), 'filename': 'breast_cancer.csv', 'data_module': 'sklearn.datasets.data'}\n"
          ]
        }
      ]
    },
    {
      "cell_type": "code",
      "source": [
        "# loading the data to a data frame\n",
        "data_frame = pd.DataFrame(breast_cancer_dataset.data, columns = breast_cancer_dataset.feature_names)"
      ],
      "metadata": {
        "id": "s03iCHgpEm1W"
      },
      "execution_count": 4,
      "outputs": []
    },
    {
      "cell_type": "code",
      "source": [
        "# print the first 5 rows of the dataframe\n",
        "data_frame.head()"
      ],
      "metadata": {
        "colab": {
          "base_uri": "https://localhost:8080/",
          "height": 334
        },
        "id": "dD8pae4ZErjl",
        "outputId": "19317057-398c-4f17-de31-9fd23c2b9b79"
      },
      "execution_count": 5,
      "outputs": [
        {
          "output_type": "execute_result",
          "data": {
            "text/plain": [
              "   mean radius  mean texture  mean perimeter  mean area  mean smoothness  \\\n",
              "0        17.99         10.38          122.80     1001.0          0.11840   \n",
              "1        20.57         17.77          132.90     1326.0          0.08474   \n",
              "2        19.69         21.25          130.00     1203.0          0.10960   \n",
              "3        11.42         20.38           77.58      386.1          0.14250   \n",
              "4        20.29         14.34          135.10     1297.0          0.10030   \n",
              "\n",
              "   mean compactness  mean concavity  mean concave points  mean symmetry  \\\n",
              "0           0.27760          0.3001              0.14710         0.2419   \n",
              "1           0.07864          0.0869              0.07017         0.1812   \n",
              "2           0.15990          0.1974              0.12790         0.2069   \n",
              "3           0.28390          0.2414              0.10520         0.2597   \n",
              "4           0.13280          0.1980              0.10430         0.1809   \n",
              "\n",
              "   mean fractal dimension  ...  worst radius  worst texture  worst perimeter  \\\n",
              "0                 0.07871  ...         25.38          17.33           184.60   \n",
              "1                 0.05667  ...         24.99          23.41           158.80   \n",
              "2                 0.05999  ...         23.57          25.53           152.50   \n",
              "3                 0.09744  ...         14.91          26.50            98.87   \n",
              "4                 0.05883  ...         22.54          16.67           152.20   \n",
              "\n",
              "   worst area  worst smoothness  worst compactness  worst concavity  \\\n",
              "0      2019.0            0.1622             0.6656           0.7119   \n",
              "1      1956.0            0.1238             0.1866           0.2416   \n",
              "2      1709.0            0.1444             0.4245           0.4504   \n",
              "3       567.7            0.2098             0.8663           0.6869   \n",
              "4      1575.0            0.1374             0.2050           0.4000   \n",
              "\n",
              "   worst concave points  worst symmetry  worst fractal dimension  \n",
              "0                0.2654          0.4601                  0.11890  \n",
              "1                0.1860          0.2750                  0.08902  \n",
              "2                0.2430          0.3613                  0.08758  \n",
              "3                0.2575          0.6638                  0.17300  \n",
              "4                0.1625          0.2364                  0.07678  \n",
              "\n",
              "[5 rows x 30 columns]"
            ],
            "text/html": [
              "\n",
              "  <div id=\"df-30e67109-3cf4-404e-af49-19a4c6419185\">\n",
              "    <div class=\"colab-df-container\">\n",
              "      <div>\n",
              "<style scoped>\n",
              "    .dataframe tbody tr th:only-of-type {\n",
              "        vertical-align: middle;\n",
              "    }\n",
              "\n",
              "    .dataframe tbody tr th {\n",
              "        vertical-align: top;\n",
              "    }\n",
              "\n",
              "    .dataframe thead th {\n",
              "        text-align: right;\n",
              "    }\n",
              "</style>\n",
              "<table border=\"1\" class=\"dataframe\">\n",
              "  <thead>\n",
              "    <tr style=\"text-align: right;\">\n",
              "      <th></th>\n",
              "      <th>mean radius</th>\n",
              "      <th>mean texture</th>\n",
              "      <th>mean perimeter</th>\n",
              "      <th>mean area</th>\n",
              "      <th>mean smoothness</th>\n",
              "      <th>mean compactness</th>\n",
              "      <th>mean concavity</th>\n",
              "      <th>mean concave points</th>\n",
              "      <th>mean symmetry</th>\n",
              "      <th>mean fractal dimension</th>\n",
              "      <th>...</th>\n",
              "      <th>worst radius</th>\n",
              "      <th>worst texture</th>\n",
              "      <th>worst perimeter</th>\n",
              "      <th>worst area</th>\n",
              "      <th>worst smoothness</th>\n",
              "      <th>worst compactness</th>\n",
              "      <th>worst concavity</th>\n",
              "      <th>worst concave points</th>\n",
              "      <th>worst symmetry</th>\n",
              "      <th>worst fractal dimension</th>\n",
              "    </tr>\n",
              "  </thead>\n",
              "  <tbody>\n",
              "    <tr>\n",
              "      <th>0</th>\n",
              "      <td>17.99</td>\n",
              "      <td>10.38</td>\n",
              "      <td>122.80</td>\n",
              "      <td>1001.0</td>\n",
              "      <td>0.11840</td>\n",
              "      <td>0.27760</td>\n",
              "      <td>0.3001</td>\n",
              "      <td>0.14710</td>\n",
              "      <td>0.2419</td>\n",
              "      <td>0.07871</td>\n",
              "      <td>...</td>\n",
              "      <td>25.38</td>\n",
              "      <td>17.33</td>\n",
              "      <td>184.60</td>\n",
              "      <td>2019.0</td>\n",
              "      <td>0.1622</td>\n",
              "      <td>0.6656</td>\n",
              "      <td>0.7119</td>\n",
              "      <td>0.2654</td>\n",
              "      <td>0.4601</td>\n",
              "      <td>0.11890</td>\n",
              "    </tr>\n",
              "    <tr>\n",
              "      <th>1</th>\n",
              "      <td>20.57</td>\n",
              "      <td>17.77</td>\n",
              "      <td>132.90</td>\n",
              "      <td>1326.0</td>\n",
              "      <td>0.08474</td>\n",
              "      <td>0.07864</td>\n",
              "      <td>0.0869</td>\n",
              "      <td>0.07017</td>\n",
              "      <td>0.1812</td>\n",
              "      <td>0.05667</td>\n",
              "      <td>...</td>\n",
              "      <td>24.99</td>\n",
              "      <td>23.41</td>\n",
              "      <td>158.80</td>\n",
              "      <td>1956.0</td>\n",
              "      <td>0.1238</td>\n",
              "      <td>0.1866</td>\n",
              "      <td>0.2416</td>\n",
              "      <td>0.1860</td>\n",
              "      <td>0.2750</td>\n",
              "      <td>0.08902</td>\n",
              "    </tr>\n",
              "    <tr>\n",
              "      <th>2</th>\n",
              "      <td>19.69</td>\n",
              "      <td>21.25</td>\n",
              "      <td>130.00</td>\n",
              "      <td>1203.0</td>\n",
              "      <td>0.10960</td>\n",
              "      <td>0.15990</td>\n",
              "      <td>0.1974</td>\n",
              "      <td>0.12790</td>\n",
              "      <td>0.2069</td>\n",
              "      <td>0.05999</td>\n",
              "      <td>...</td>\n",
              "      <td>23.57</td>\n",
              "      <td>25.53</td>\n",
              "      <td>152.50</td>\n",
              "      <td>1709.0</td>\n",
              "      <td>0.1444</td>\n",
              "      <td>0.4245</td>\n",
              "      <td>0.4504</td>\n",
              "      <td>0.2430</td>\n",
              "      <td>0.3613</td>\n",
              "      <td>0.08758</td>\n",
              "    </tr>\n",
              "    <tr>\n",
              "      <th>3</th>\n",
              "      <td>11.42</td>\n",
              "      <td>20.38</td>\n",
              "      <td>77.58</td>\n",
              "      <td>386.1</td>\n",
              "      <td>0.14250</td>\n",
              "      <td>0.28390</td>\n",
              "      <td>0.2414</td>\n",
              "      <td>0.10520</td>\n",
              "      <td>0.2597</td>\n",
              "      <td>0.09744</td>\n",
              "      <td>...</td>\n",
              "      <td>14.91</td>\n",
              "      <td>26.50</td>\n",
              "      <td>98.87</td>\n",
              "      <td>567.7</td>\n",
              "      <td>0.2098</td>\n",
              "      <td>0.8663</td>\n",
              "      <td>0.6869</td>\n",
              "      <td>0.2575</td>\n",
              "      <td>0.6638</td>\n",
              "      <td>0.17300</td>\n",
              "    </tr>\n",
              "    <tr>\n",
              "      <th>4</th>\n",
              "      <td>20.29</td>\n",
              "      <td>14.34</td>\n",
              "      <td>135.10</td>\n",
              "      <td>1297.0</td>\n",
              "      <td>0.10030</td>\n",
              "      <td>0.13280</td>\n",
              "      <td>0.1980</td>\n",
              "      <td>0.10430</td>\n",
              "      <td>0.1809</td>\n",
              "      <td>0.05883</td>\n",
              "      <td>...</td>\n",
              "      <td>22.54</td>\n",
              "      <td>16.67</td>\n",
              "      <td>152.20</td>\n",
              "      <td>1575.0</td>\n",
              "      <td>0.1374</td>\n",
              "      <td>0.2050</td>\n",
              "      <td>0.4000</td>\n",
              "      <td>0.1625</td>\n",
              "      <td>0.2364</td>\n",
              "      <td>0.07678</td>\n",
              "    </tr>\n",
              "  </tbody>\n",
              "</table>\n",
              "<p>5 rows × 30 columns</p>\n",
              "</div>\n",
              "      <button class=\"colab-df-convert\" onclick=\"convertToInteractive('df-30e67109-3cf4-404e-af49-19a4c6419185')\"\n",
              "              title=\"Convert this dataframe to an interactive table.\"\n",
              "              style=\"display:none;\">\n",
              "        \n",
              "  <svg xmlns=\"http://www.w3.org/2000/svg\" height=\"24px\"viewBox=\"0 0 24 24\"\n",
              "       width=\"24px\">\n",
              "    <path d=\"M0 0h24v24H0V0z\" fill=\"none\"/>\n",
              "    <path d=\"M18.56 5.44l.94 2.06.94-2.06 2.06-.94-2.06-.94-.94-2.06-.94 2.06-2.06.94zm-11 1L8.5 8.5l.94-2.06 2.06-.94-2.06-.94L8.5 2.5l-.94 2.06-2.06.94zm10 10l.94 2.06.94-2.06 2.06-.94-2.06-.94-.94-2.06-.94 2.06-2.06.94z\"/><path d=\"M17.41 7.96l-1.37-1.37c-.4-.4-.92-.59-1.43-.59-.52 0-1.04.2-1.43.59L10.3 9.45l-7.72 7.72c-.78.78-.78 2.05 0 2.83L4 21.41c.39.39.9.59 1.41.59.51 0 1.02-.2 1.41-.59l7.78-7.78 2.81-2.81c.8-.78.8-2.07 0-2.86zM5.41 20L4 18.59l7.72-7.72 1.47 1.35L5.41 20z\"/>\n",
              "  </svg>\n",
              "      </button>\n",
              "      \n",
              "  <style>\n",
              "    .colab-df-container {\n",
              "      display:flex;\n",
              "      flex-wrap:wrap;\n",
              "      gap: 12px;\n",
              "    }\n",
              "\n",
              "    .colab-df-convert {\n",
              "      background-color: #E8F0FE;\n",
              "      border: none;\n",
              "      border-radius: 50%;\n",
              "      cursor: pointer;\n",
              "      display: none;\n",
              "      fill: #1967D2;\n",
              "      height: 32px;\n",
              "      padding: 0 0 0 0;\n",
              "      width: 32px;\n",
              "    }\n",
              "\n",
              "    .colab-df-convert:hover {\n",
              "      background-color: #E2EBFA;\n",
              "      box-shadow: 0px 1px 2px rgba(60, 64, 67, 0.3), 0px 1px 3px 1px rgba(60, 64, 67, 0.15);\n",
              "      fill: #174EA6;\n",
              "    }\n",
              "\n",
              "    [theme=dark] .colab-df-convert {\n",
              "      background-color: #3B4455;\n",
              "      fill: #D2E3FC;\n",
              "    }\n",
              "\n",
              "    [theme=dark] .colab-df-convert:hover {\n",
              "      background-color: #434B5C;\n",
              "      box-shadow: 0px 1px 3px 1px rgba(0, 0, 0, 0.15);\n",
              "      filter: drop-shadow(0px 1px 2px rgba(0, 0, 0, 0.3));\n",
              "      fill: #FFFFFF;\n",
              "    }\n",
              "  </style>\n",
              "\n",
              "      <script>\n",
              "        const buttonEl =\n",
              "          document.querySelector('#df-30e67109-3cf4-404e-af49-19a4c6419185 button.colab-df-convert');\n",
              "        buttonEl.style.display =\n",
              "          google.colab.kernel.accessAllowed ? 'block' : 'none';\n",
              "\n",
              "        async function convertToInteractive(key) {\n",
              "          const element = document.querySelector('#df-30e67109-3cf4-404e-af49-19a4c6419185');\n",
              "          const dataTable =\n",
              "            await google.colab.kernel.invokeFunction('convertToInteractive',\n",
              "                                                     [key], {});\n",
              "          if (!dataTable) return;\n",
              "\n",
              "          const docLinkHtml = 'Like what you see? Visit the ' +\n",
              "            '<a target=\"_blank\" href=https://colab.research.google.com/notebooks/data_table.ipynb>data table notebook</a>'\n",
              "            + ' to learn more about interactive tables.';\n",
              "          element.innerHTML = '';\n",
              "          dataTable['output_type'] = 'display_data';\n",
              "          await google.colab.output.renderOutput(dataTable, element);\n",
              "          const docLink = document.createElement('div');\n",
              "          docLink.innerHTML = docLinkHtml;\n",
              "          element.appendChild(docLink);\n",
              "        }\n",
              "      </script>\n",
              "    </div>\n",
              "  </div>\n",
              "  "
            ]
          },
          "metadata": {},
          "execution_count": 5
        }
      ]
    },
    {
      "cell_type": "code",
      "source": [
        "# adding the 'target' column to the data frame\n",
        "data_frame['label'] = breast_cancer_dataset.target"
      ],
      "metadata": {
        "id": "LAlVDK79ExPy"
      },
      "execution_count": 6,
      "outputs": []
    },
    {
      "cell_type": "code",
      "source": [
        "# print last 5 rows of the dataframe\n",
        "data_frame.tail()"
      ],
      "metadata": {
        "colab": {
          "base_uri": "https://localhost:8080/",
          "height": 334
        },
        "id": "7LJZ6q9LEz80",
        "outputId": "d946374b-4cb3-4504-e090-d4957644b97b"
      },
      "execution_count": 7,
      "outputs": [
        {
          "output_type": "execute_result",
          "data": {
            "text/plain": [
              "     mean radius  mean texture  mean perimeter  mean area  mean smoothness  \\\n",
              "564        21.56         22.39          142.00     1479.0          0.11100   \n",
              "565        20.13         28.25          131.20     1261.0          0.09780   \n",
              "566        16.60         28.08          108.30      858.1          0.08455   \n",
              "567        20.60         29.33          140.10     1265.0          0.11780   \n",
              "568         7.76         24.54           47.92      181.0          0.05263   \n",
              "\n",
              "     mean compactness  mean concavity  mean concave points  mean symmetry  \\\n",
              "564           0.11590         0.24390              0.13890         0.1726   \n",
              "565           0.10340         0.14400              0.09791         0.1752   \n",
              "566           0.10230         0.09251              0.05302         0.1590   \n",
              "567           0.27700         0.35140              0.15200         0.2397   \n",
              "568           0.04362         0.00000              0.00000         0.1587   \n",
              "\n",
              "     mean fractal dimension  ...  worst texture  worst perimeter  worst area  \\\n",
              "564                 0.05623  ...          26.40           166.10      2027.0   \n",
              "565                 0.05533  ...          38.25           155.00      1731.0   \n",
              "566                 0.05648  ...          34.12           126.70      1124.0   \n",
              "567                 0.07016  ...          39.42           184.60      1821.0   \n",
              "568                 0.05884  ...          30.37            59.16       268.6   \n",
              "\n",
              "     worst smoothness  worst compactness  worst concavity  \\\n",
              "564           0.14100            0.21130           0.4107   \n",
              "565           0.11660            0.19220           0.3215   \n",
              "566           0.11390            0.30940           0.3403   \n",
              "567           0.16500            0.86810           0.9387   \n",
              "568           0.08996            0.06444           0.0000   \n",
              "\n",
              "     worst concave points  worst symmetry  worst fractal dimension  label  \n",
              "564                0.2216          0.2060                  0.07115      0  \n",
              "565                0.1628          0.2572                  0.06637      0  \n",
              "566                0.1418          0.2218                  0.07820      0  \n",
              "567                0.2650          0.4087                  0.12400      0  \n",
              "568                0.0000          0.2871                  0.07039      1  \n",
              "\n",
              "[5 rows x 31 columns]"
            ],
            "text/html": [
              "\n",
              "  <div id=\"df-c5c0472d-cb02-42ef-9e0e-7596f4413935\">\n",
              "    <div class=\"colab-df-container\">\n",
              "      <div>\n",
              "<style scoped>\n",
              "    .dataframe tbody tr th:only-of-type {\n",
              "        vertical-align: middle;\n",
              "    }\n",
              "\n",
              "    .dataframe tbody tr th {\n",
              "        vertical-align: top;\n",
              "    }\n",
              "\n",
              "    .dataframe thead th {\n",
              "        text-align: right;\n",
              "    }\n",
              "</style>\n",
              "<table border=\"1\" class=\"dataframe\">\n",
              "  <thead>\n",
              "    <tr style=\"text-align: right;\">\n",
              "      <th></th>\n",
              "      <th>mean radius</th>\n",
              "      <th>mean texture</th>\n",
              "      <th>mean perimeter</th>\n",
              "      <th>mean area</th>\n",
              "      <th>mean smoothness</th>\n",
              "      <th>mean compactness</th>\n",
              "      <th>mean concavity</th>\n",
              "      <th>mean concave points</th>\n",
              "      <th>mean symmetry</th>\n",
              "      <th>mean fractal dimension</th>\n",
              "      <th>...</th>\n",
              "      <th>worst texture</th>\n",
              "      <th>worst perimeter</th>\n",
              "      <th>worst area</th>\n",
              "      <th>worst smoothness</th>\n",
              "      <th>worst compactness</th>\n",
              "      <th>worst concavity</th>\n",
              "      <th>worst concave points</th>\n",
              "      <th>worst symmetry</th>\n",
              "      <th>worst fractal dimension</th>\n",
              "      <th>label</th>\n",
              "    </tr>\n",
              "  </thead>\n",
              "  <tbody>\n",
              "    <tr>\n",
              "      <th>564</th>\n",
              "      <td>21.56</td>\n",
              "      <td>22.39</td>\n",
              "      <td>142.00</td>\n",
              "      <td>1479.0</td>\n",
              "      <td>0.11100</td>\n",
              "      <td>0.11590</td>\n",
              "      <td>0.24390</td>\n",
              "      <td>0.13890</td>\n",
              "      <td>0.1726</td>\n",
              "      <td>0.05623</td>\n",
              "      <td>...</td>\n",
              "      <td>26.40</td>\n",
              "      <td>166.10</td>\n",
              "      <td>2027.0</td>\n",
              "      <td>0.14100</td>\n",
              "      <td>0.21130</td>\n",
              "      <td>0.4107</td>\n",
              "      <td>0.2216</td>\n",
              "      <td>0.2060</td>\n",
              "      <td>0.07115</td>\n",
              "      <td>0</td>\n",
              "    </tr>\n",
              "    <tr>\n",
              "      <th>565</th>\n",
              "      <td>20.13</td>\n",
              "      <td>28.25</td>\n",
              "      <td>131.20</td>\n",
              "      <td>1261.0</td>\n",
              "      <td>0.09780</td>\n",
              "      <td>0.10340</td>\n",
              "      <td>0.14400</td>\n",
              "      <td>0.09791</td>\n",
              "      <td>0.1752</td>\n",
              "      <td>0.05533</td>\n",
              "      <td>...</td>\n",
              "      <td>38.25</td>\n",
              "      <td>155.00</td>\n",
              "      <td>1731.0</td>\n",
              "      <td>0.11660</td>\n",
              "      <td>0.19220</td>\n",
              "      <td>0.3215</td>\n",
              "      <td>0.1628</td>\n",
              "      <td>0.2572</td>\n",
              "      <td>0.06637</td>\n",
              "      <td>0</td>\n",
              "    </tr>\n",
              "    <tr>\n",
              "      <th>566</th>\n",
              "      <td>16.60</td>\n",
              "      <td>28.08</td>\n",
              "      <td>108.30</td>\n",
              "      <td>858.1</td>\n",
              "      <td>0.08455</td>\n",
              "      <td>0.10230</td>\n",
              "      <td>0.09251</td>\n",
              "      <td>0.05302</td>\n",
              "      <td>0.1590</td>\n",
              "      <td>0.05648</td>\n",
              "      <td>...</td>\n",
              "      <td>34.12</td>\n",
              "      <td>126.70</td>\n",
              "      <td>1124.0</td>\n",
              "      <td>0.11390</td>\n",
              "      <td>0.30940</td>\n",
              "      <td>0.3403</td>\n",
              "      <td>0.1418</td>\n",
              "      <td>0.2218</td>\n",
              "      <td>0.07820</td>\n",
              "      <td>0</td>\n",
              "    </tr>\n",
              "    <tr>\n",
              "      <th>567</th>\n",
              "      <td>20.60</td>\n",
              "      <td>29.33</td>\n",
              "      <td>140.10</td>\n",
              "      <td>1265.0</td>\n",
              "      <td>0.11780</td>\n",
              "      <td>0.27700</td>\n",
              "      <td>0.35140</td>\n",
              "      <td>0.15200</td>\n",
              "      <td>0.2397</td>\n",
              "      <td>0.07016</td>\n",
              "      <td>...</td>\n",
              "      <td>39.42</td>\n",
              "      <td>184.60</td>\n",
              "      <td>1821.0</td>\n",
              "      <td>0.16500</td>\n",
              "      <td>0.86810</td>\n",
              "      <td>0.9387</td>\n",
              "      <td>0.2650</td>\n",
              "      <td>0.4087</td>\n",
              "      <td>0.12400</td>\n",
              "      <td>0</td>\n",
              "    </tr>\n",
              "    <tr>\n",
              "      <th>568</th>\n",
              "      <td>7.76</td>\n",
              "      <td>24.54</td>\n",
              "      <td>47.92</td>\n",
              "      <td>181.0</td>\n",
              "      <td>0.05263</td>\n",
              "      <td>0.04362</td>\n",
              "      <td>0.00000</td>\n",
              "      <td>0.00000</td>\n",
              "      <td>0.1587</td>\n",
              "      <td>0.05884</td>\n",
              "      <td>...</td>\n",
              "      <td>30.37</td>\n",
              "      <td>59.16</td>\n",
              "      <td>268.6</td>\n",
              "      <td>0.08996</td>\n",
              "      <td>0.06444</td>\n",
              "      <td>0.0000</td>\n",
              "      <td>0.0000</td>\n",
              "      <td>0.2871</td>\n",
              "      <td>0.07039</td>\n",
              "      <td>1</td>\n",
              "    </tr>\n",
              "  </tbody>\n",
              "</table>\n",
              "<p>5 rows × 31 columns</p>\n",
              "</div>\n",
              "      <button class=\"colab-df-convert\" onclick=\"convertToInteractive('df-c5c0472d-cb02-42ef-9e0e-7596f4413935')\"\n",
              "              title=\"Convert this dataframe to an interactive table.\"\n",
              "              style=\"display:none;\">\n",
              "        \n",
              "  <svg xmlns=\"http://www.w3.org/2000/svg\" height=\"24px\"viewBox=\"0 0 24 24\"\n",
              "       width=\"24px\">\n",
              "    <path d=\"M0 0h24v24H0V0z\" fill=\"none\"/>\n",
              "    <path d=\"M18.56 5.44l.94 2.06.94-2.06 2.06-.94-2.06-.94-.94-2.06-.94 2.06-2.06.94zm-11 1L8.5 8.5l.94-2.06 2.06-.94-2.06-.94L8.5 2.5l-.94 2.06-2.06.94zm10 10l.94 2.06.94-2.06 2.06-.94-2.06-.94-.94-2.06-.94 2.06-2.06.94z\"/><path d=\"M17.41 7.96l-1.37-1.37c-.4-.4-.92-.59-1.43-.59-.52 0-1.04.2-1.43.59L10.3 9.45l-7.72 7.72c-.78.78-.78 2.05 0 2.83L4 21.41c.39.39.9.59 1.41.59.51 0 1.02-.2 1.41-.59l7.78-7.78 2.81-2.81c.8-.78.8-2.07 0-2.86zM5.41 20L4 18.59l7.72-7.72 1.47 1.35L5.41 20z\"/>\n",
              "  </svg>\n",
              "      </button>\n",
              "      \n",
              "  <style>\n",
              "    .colab-df-container {\n",
              "      display:flex;\n",
              "      flex-wrap:wrap;\n",
              "      gap: 12px;\n",
              "    }\n",
              "\n",
              "    .colab-df-convert {\n",
              "      background-color: #E8F0FE;\n",
              "      border: none;\n",
              "      border-radius: 50%;\n",
              "      cursor: pointer;\n",
              "      display: none;\n",
              "      fill: #1967D2;\n",
              "      height: 32px;\n",
              "      padding: 0 0 0 0;\n",
              "      width: 32px;\n",
              "    }\n",
              "\n",
              "    .colab-df-convert:hover {\n",
              "      background-color: #E2EBFA;\n",
              "      box-shadow: 0px 1px 2px rgba(60, 64, 67, 0.3), 0px 1px 3px 1px rgba(60, 64, 67, 0.15);\n",
              "      fill: #174EA6;\n",
              "    }\n",
              "\n",
              "    [theme=dark] .colab-df-convert {\n",
              "      background-color: #3B4455;\n",
              "      fill: #D2E3FC;\n",
              "    }\n",
              "\n",
              "    [theme=dark] .colab-df-convert:hover {\n",
              "      background-color: #434B5C;\n",
              "      box-shadow: 0px 1px 3px 1px rgba(0, 0, 0, 0.15);\n",
              "      filter: drop-shadow(0px 1px 2px rgba(0, 0, 0, 0.3));\n",
              "      fill: #FFFFFF;\n",
              "    }\n",
              "  </style>\n",
              "\n",
              "      <script>\n",
              "        const buttonEl =\n",
              "          document.querySelector('#df-c5c0472d-cb02-42ef-9e0e-7596f4413935 button.colab-df-convert');\n",
              "        buttonEl.style.display =\n",
              "          google.colab.kernel.accessAllowed ? 'block' : 'none';\n",
              "\n",
              "        async function convertToInteractive(key) {\n",
              "          const element = document.querySelector('#df-c5c0472d-cb02-42ef-9e0e-7596f4413935');\n",
              "          const dataTable =\n",
              "            await google.colab.kernel.invokeFunction('convertToInteractive',\n",
              "                                                     [key], {});\n",
              "          if (!dataTable) return;\n",
              "\n",
              "          const docLinkHtml = 'Like what you see? Visit the ' +\n",
              "            '<a target=\"_blank\" href=https://colab.research.google.com/notebooks/data_table.ipynb>data table notebook</a>'\n",
              "            + ' to learn more about interactive tables.';\n",
              "          element.innerHTML = '';\n",
              "          dataTable['output_type'] = 'display_data';\n",
              "          await google.colab.output.renderOutput(dataTable, element);\n",
              "          const docLink = document.createElement('div');\n",
              "          docLink.innerHTML = docLinkHtml;\n",
              "          element.appendChild(docLink);\n",
              "        }\n",
              "      </script>\n",
              "    </div>\n",
              "  </div>\n",
              "  "
            ]
          },
          "metadata": {},
          "execution_count": 7
        }
      ]
    },
    {
      "cell_type": "code",
      "source": [
        "# number of rows and columns in the dataset\n",
        "data_frame.shape"
      ],
      "metadata": {
        "colab": {
          "base_uri": "https://localhost:8080/"
        },
        "id": "1eZtiRu-FAwM",
        "outputId": "44b0bce2-bedb-4ef4-8230-ed5257c76fd0"
      },
      "execution_count": 8,
      "outputs": [
        {
          "output_type": "execute_result",
          "data": {
            "text/plain": [
              "(569, 31)"
            ]
          },
          "metadata": {},
          "execution_count": 8
        }
      ]
    },
    {
      "cell_type": "code",
      "source": [
        "# getting some information about the data\n",
        "data_frame.info()"
      ],
      "metadata": {
        "colab": {
          "base_uri": "https://localhost:8080/"
        },
        "id": "J7Hi3ghRFMen",
        "outputId": "a6e89a35-6c9f-4441-898a-49128ddfc51d"
      },
      "execution_count": 9,
      "outputs": [
        {
          "output_type": "stream",
          "name": "stdout",
          "text": [
            "<class 'pandas.core.frame.DataFrame'>\n",
            "RangeIndex: 569 entries, 0 to 568\n",
            "Data columns (total 31 columns):\n",
            " #   Column                   Non-Null Count  Dtype  \n",
            "---  ------                   --------------  -----  \n",
            " 0   mean radius              569 non-null    float64\n",
            " 1   mean texture             569 non-null    float64\n",
            " 2   mean perimeter           569 non-null    float64\n",
            " 3   mean area                569 non-null    float64\n",
            " 4   mean smoothness          569 non-null    float64\n",
            " 5   mean compactness         569 non-null    float64\n",
            " 6   mean concavity           569 non-null    float64\n",
            " 7   mean concave points      569 non-null    float64\n",
            " 8   mean symmetry            569 non-null    float64\n",
            " 9   mean fractal dimension   569 non-null    float64\n",
            " 10  radius error             569 non-null    float64\n",
            " 11  texture error            569 non-null    float64\n",
            " 12  perimeter error          569 non-null    float64\n",
            " 13  area error               569 non-null    float64\n",
            " 14  smoothness error         569 non-null    float64\n",
            " 15  compactness error        569 non-null    float64\n",
            " 16  concavity error          569 non-null    float64\n",
            " 17  concave points error     569 non-null    float64\n",
            " 18  symmetry error           569 non-null    float64\n",
            " 19  fractal dimension error  569 non-null    float64\n",
            " 20  worst radius             569 non-null    float64\n",
            " 21  worst texture            569 non-null    float64\n",
            " 22  worst perimeter          569 non-null    float64\n",
            " 23  worst area               569 non-null    float64\n",
            " 24  worst smoothness         569 non-null    float64\n",
            " 25  worst compactness        569 non-null    float64\n",
            " 26  worst concavity          569 non-null    float64\n",
            " 27  worst concave points     569 non-null    float64\n",
            " 28  worst symmetry           569 non-null    float64\n",
            " 29  worst fractal dimension  569 non-null    float64\n",
            " 30  label                    569 non-null    int64  \n",
            "dtypes: float64(30), int64(1)\n",
            "memory usage: 137.9 KB\n"
          ]
        }
      ]
    },
    {
      "cell_type": "code",
      "source": [
        "# checking for missing values\n",
        "data_frame.isnull().sum()"
      ],
      "metadata": {
        "colab": {
          "base_uri": "https://localhost:8080/"
        },
        "id": "sSEieDFIFY2s",
        "outputId": "00d1ecfa-a1c4-448a-d03d-ccdedddfbd74"
      },
      "execution_count": 10,
      "outputs": [
        {
          "output_type": "execute_result",
          "data": {
            "text/plain": [
              "mean radius                0\n",
              "mean texture               0\n",
              "mean perimeter             0\n",
              "mean area                  0\n",
              "mean smoothness            0\n",
              "mean compactness           0\n",
              "mean concavity             0\n",
              "mean concave points        0\n",
              "mean symmetry              0\n",
              "mean fractal dimension     0\n",
              "radius error               0\n",
              "texture error              0\n",
              "perimeter error            0\n",
              "area error                 0\n",
              "smoothness error           0\n",
              "compactness error          0\n",
              "concavity error            0\n",
              "concave points error       0\n",
              "symmetry error             0\n",
              "fractal dimension error    0\n",
              "worst radius               0\n",
              "worst texture              0\n",
              "worst perimeter            0\n",
              "worst area                 0\n",
              "worst smoothness           0\n",
              "worst compactness          0\n",
              "worst concavity            0\n",
              "worst concave points       0\n",
              "worst symmetry             0\n",
              "worst fractal dimension    0\n",
              "label                      0\n",
              "dtype: int64"
            ]
          },
          "metadata": {},
          "execution_count": 10
        }
      ]
    },
    {
      "cell_type": "code",
      "source": [
        "# statistical measures about the data\n",
        "data_frame.describe()"
      ],
      "metadata": {
        "colab": {
          "base_uri": "https://localhost:8080/",
          "height": 428
        },
        "id": "D7CPVIT2Fg6i",
        "outputId": "8be877c0-6178-4987-cfba-b29c034e664d"
      },
      "execution_count": 11,
      "outputs": [
        {
          "output_type": "execute_result",
          "data": {
            "text/plain": [
              "       mean radius  mean texture  mean perimeter    mean area  \\\n",
              "count   569.000000    569.000000      569.000000   569.000000   \n",
              "mean     14.127292     19.289649       91.969033   654.889104   \n",
              "std       3.524049      4.301036       24.298981   351.914129   \n",
              "min       6.981000      9.710000       43.790000   143.500000   \n",
              "25%      11.700000     16.170000       75.170000   420.300000   \n",
              "50%      13.370000     18.840000       86.240000   551.100000   \n",
              "75%      15.780000     21.800000      104.100000   782.700000   \n",
              "max      28.110000     39.280000      188.500000  2501.000000   \n",
              "\n",
              "       mean smoothness  mean compactness  mean concavity  mean concave points  \\\n",
              "count       569.000000        569.000000      569.000000           569.000000   \n",
              "mean          0.096360          0.104341        0.088799             0.048919   \n",
              "std           0.014064          0.052813        0.079720             0.038803   \n",
              "min           0.052630          0.019380        0.000000             0.000000   \n",
              "25%           0.086370          0.064920        0.029560             0.020310   \n",
              "50%           0.095870          0.092630        0.061540             0.033500   \n",
              "75%           0.105300          0.130400        0.130700             0.074000   \n",
              "max           0.163400          0.345400        0.426800             0.201200   \n",
              "\n",
              "       mean symmetry  mean fractal dimension  ...  worst texture  \\\n",
              "count     569.000000              569.000000  ...     569.000000   \n",
              "mean        0.181162                0.062798  ...      25.677223   \n",
              "std         0.027414                0.007060  ...       6.146258   \n",
              "min         0.106000                0.049960  ...      12.020000   \n",
              "25%         0.161900                0.057700  ...      21.080000   \n",
              "50%         0.179200                0.061540  ...      25.410000   \n",
              "75%         0.195700                0.066120  ...      29.720000   \n",
              "max         0.304000                0.097440  ...      49.540000   \n",
              "\n",
              "       worst perimeter   worst area  worst smoothness  worst compactness  \\\n",
              "count       569.000000   569.000000        569.000000         569.000000   \n",
              "mean        107.261213   880.583128          0.132369           0.254265   \n",
              "std          33.602542   569.356993          0.022832           0.157336   \n",
              "min          50.410000   185.200000          0.071170           0.027290   \n",
              "25%          84.110000   515.300000          0.116600           0.147200   \n",
              "50%          97.660000   686.500000          0.131300           0.211900   \n",
              "75%         125.400000  1084.000000          0.146000           0.339100   \n",
              "max         251.200000  4254.000000          0.222600           1.058000   \n",
              "\n",
              "       worst concavity  worst concave points  worst symmetry  \\\n",
              "count       569.000000            569.000000      569.000000   \n",
              "mean          0.272188              0.114606        0.290076   \n",
              "std           0.208624              0.065732        0.061867   \n",
              "min           0.000000              0.000000        0.156500   \n",
              "25%           0.114500              0.064930        0.250400   \n",
              "50%           0.226700              0.099930        0.282200   \n",
              "75%           0.382900              0.161400        0.317900   \n",
              "max           1.252000              0.291000        0.663800   \n",
              "\n",
              "       worst fractal dimension       label  \n",
              "count               569.000000  569.000000  \n",
              "mean                  0.083946    0.627417  \n",
              "std                   0.018061    0.483918  \n",
              "min                   0.055040    0.000000  \n",
              "25%                   0.071460    0.000000  \n",
              "50%                   0.080040    1.000000  \n",
              "75%                   0.092080    1.000000  \n",
              "max                   0.207500    1.000000  \n",
              "\n",
              "[8 rows x 31 columns]"
            ],
            "text/html": [
              "\n",
              "  <div id=\"df-2a3ac2a6-2ae3-44f5-9e6f-00272eeae969\">\n",
              "    <div class=\"colab-df-container\">\n",
              "      <div>\n",
              "<style scoped>\n",
              "    .dataframe tbody tr th:only-of-type {\n",
              "        vertical-align: middle;\n",
              "    }\n",
              "\n",
              "    .dataframe tbody tr th {\n",
              "        vertical-align: top;\n",
              "    }\n",
              "\n",
              "    .dataframe thead th {\n",
              "        text-align: right;\n",
              "    }\n",
              "</style>\n",
              "<table border=\"1\" class=\"dataframe\">\n",
              "  <thead>\n",
              "    <tr style=\"text-align: right;\">\n",
              "      <th></th>\n",
              "      <th>mean radius</th>\n",
              "      <th>mean texture</th>\n",
              "      <th>mean perimeter</th>\n",
              "      <th>mean area</th>\n",
              "      <th>mean smoothness</th>\n",
              "      <th>mean compactness</th>\n",
              "      <th>mean concavity</th>\n",
              "      <th>mean concave points</th>\n",
              "      <th>mean symmetry</th>\n",
              "      <th>mean fractal dimension</th>\n",
              "      <th>...</th>\n",
              "      <th>worst texture</th>\n",
              "      <th>worst perimeter</th>\n",
              "      <th>worst area</th>\n",
              "      <th>worst smoothness</th>\n",
              "      <th>worst compactness</th>\n",
              "      <th>worst concavity</th>\n",
              "      <th>worst concave points</th>\n",
              "      <th>worst symmetry</th>\n",
              "      <th>worst fractal dimension</th>\n",
              "      <th>label</th>\n",
              "    </tr>\n",
              "  </thead>\n",
              "  <tbody>\n",
              "    <tr>\n",
              "      <th>count</th>\n",
              "      <td>569.000000</td>\n",
              "      <td>569.000000</td>\n",
              "      <td>569.000000</td>\n",
              "      <td>569.000000</td>\n",
              "      <td>569.000000</td>\n",
              "      <td>569.000000</td>\n",
              "      <td>569.000000</td>\n",
              "      <td>569.000000</td>\n",
              "      <td>569.000000</td>\n",
              "      <td>569.000000</td>\n",
              "      <td>...</td>\n",
              "      <td>569.000000</td>\n",
              "      <td>569.000000</td>\n",
              "      <td>569.000000</td>\n",
              "      <td>569.000000</td>\n",
              "      <td>569.000000</td>\n",
              "      <td>569.000000</td>\n",
              "      <td>569.000000</td>\n",
              "      <td>569.000000</td>\n",
              "      <td>569.000000</td>\n",
              "      <td>569.000000</td>\n",
              "    </tr>\n",
              "    <tr>\n",
              "      <th>mean</th>\n",
              "      <td>14.127292</td>\n",
              "      <td>19.289649</td>\n",
              "      <td>91.969033</td>\n",
              "      <td>654.889104</td>\n",
              "      <td>0.096360</td>\n",
              "      <td>0.104341</td>\n",
              "      <td>0.088799</td>\n",
              "      <td>0.048919</td>\n",
              "      <td>0.181162</td>\n",
              "      <td>0.062798</td>\n",
              "      <td>...</td>\n",
              "      <td>25.677223</td>\n",
              "      <td>107.261213</td>\n",
              "      <td>880.583128</td>\n",
              "      <td>0.132369</td>\n",
              "      <td>0.254265</td>\n",
              "      <td>0.272188</td>\n",
              "      <td>0.114606</td>\n",
              "      <td>0.290076</td>\n",
              "      <td>0.083946</td>\n",
              "      <td>0.627417</td>\n",
              "    </tr>\n",
              "    <tr>\n",
              "      <th>std</th>\n",
              "      <td>3.524049</td>\n",
              "      <td>4.301036</td>\n",
              "      <td>24.298981</td>\n",
              "      <td>351.914129</td>\n",
              "      <td>0.014064</td>\n",
              "      <td>0.052813</td>\n",
              "      <td>0.079720</td>\n",
              "      <td>0.038803</td>\n",
              "      <td>0.027414</td>\n",
              "      <td>0.007060</td>\n",
              "      <td>...</td>\n",
              "      <td>6.146258</td>\n",
              "      <td>33.602542</td>\n",
              "      <td>569.356993</td>\n",
              "      <td>0.022832</td>\n",
              "      <td>0.157336</td>\n",
              "      <td>0.208624</td>\n",
              "      <td>0.065732</td>\n",
              "      <td>0.061867</td>\n",
              "      <td>0.018061</td>\n",
              "      <td>0.483918</td>\n",
              "    </tr>\n",
              "    <tr>\n",
              "      <th>min</th>\n",
              "      <td>6.981000</td>\n",
              "      <td>9.710000</td>\n",
              "      <td>43.790000</td>\n",
              "      <td>143.500000</td>\n",
              "      <td>0.052630</td>\n",
              "      <td>0.019380</td>\n",
              "      <td>0.000000</td>\n",
              "      <td>0.000000</td>\n",
              "      <td>0.106000</td>\n",
              "      <td>0.049960</td>\n",
              "      <td>...</td>\n",
              "      <td>12.020000</td>\n",
              "      <td>50.410000</td>\n",
              "      <td>185.200000</td>\n",
              "      <td>0.071170</td>\n",
              "      <td>0.027290</td>\n",
              "      <td>0.000000</td>\n",
              "      <td>0.000000</td>\n",
              "      <td>0.156500</td>\n",
              "      <td>0.055040</td>\n",
              "      <td>0.000000</td>\n",
              "    </tr>\n",
              "    <tr>\n",
              "      <th>25%</th>\n",
              "      <td>11.700000</td>\n",
              "      <td>16.170000</td>\n",
              "      <td>75.170000</td>\n",
              "      <td>420.300000</td>\n",
              "      <td>0.086370</td>\n",
              "      <td>0.064920</td>\n",
              "      <td>0.029560</td>\n",
              "      <td>0.020310</td>\n",
              "      <td>0.161900</td>\n",
              "      <td>0.057700</td>\n",
              "      <td>...</td>\n",
              "      <td>21.080000</td>\n",
              "      <td>84.110000</td>\n",
              "      <td>515.300000</td>\n",
              "      <td>0.116600</td>\n",
              "      <td>0.147200</td>\n",
              "      <td>0.114500</td>\n",
              "      <td>0.064930</td>\n",
              "      <td>0.250400</td>\n",
              "      <td>0.071460</td>\n",
              "      <td>0.000000</td>\n",
              "    </tr>\n",
              "    <tr>\n",
              "      <th>50%</th>\n",
              "      <td>13.370000</td>\n",
              "      <td>18.840000</td>\n",
              "      <td>86.240000</td>\n",
              "      <td>551.100000</td>\n",
              "      <td>0.095870</td>\n",
              "      <td>0.092630</td>\n",
              "      <td>0.061540</td>\n",
              "      <td>0.033500</td>\n",
              "      <td>0.179200</td>\n",
              "      <td>0.061540</td>\n",
              "      <td>...</td>\n",
              "      <td>25.410000</td>\n",
              "      <td>97.660000</td>\n",
              "      <td>686.500000</td>\n",
              "      <td>0.131300</td>\n",
              "      <td>0.211900</td>\n",
              "      <td>0.226700</td>\n",
              "      <td>0.099930</td>\n",
              "      <td>0.282200</td>\n",
              "      <td>0.080040</td>\n",
              "      <td>1.000000</td>\n",
              "    </tr>\n",
              "    <tr>\n",
              "      <th>75%</th>\n",
              "      <td>15.780000</td>\n",
              "      <td>21.800000</td>\n",
              "      <td>104.100000</td>\n",
              "      <td>782.700000</td>\n",
              "      <td>0.105300</td>\n",
              "      <td>0.130400</td>\n",
              "      <td>0.130700</td>\n",
              "      <td>0.074000</td>\n",
              "      <td>0.195700</td>\n",
              "      <td>0.066120</td>\n",
              "      <td>...</td>\n",
              "      <td>29.720000</td>\n",
              "      <td>125.400000</td>\n",
              "      <td>1084.000000</td>\n",
              "      <td>0.146000</td>\n",
              "      <td>0.339100</td>\n",
              "      <td>0.382900</td>\n",
              "      <td>0.161400</td>\n",
              "      <td>0.317900</td>\n",
              "      <td>0.092080</td>\n",
              "      <td>1.000000</td>\n",
              "    </tr>\n",
              "    <tr>\n",
              "      <th>max</th>\n",
              "      <td>28.110000</td>\n",
              "      <td>39.280000</td>\n",
              "      <td>188.500000</td>\n",
              "      <td>2501.000000</td>\n",
              "      <td>0.163400</td>\n",
              "      <td>0.345400</td>\n",
              "      <td>0.426800</td>\n",
              "      <td>0.201200</td>\n",
              "      <td>0.304000</td>\n",
              "      <td>0.097440</td>\n",
              "      <td>...</td>\n",
              "      <td>49.540000</td>\n",
              "      <td>251.200000</td>\n",
              "      <td>4254.000000</td>\n",
              "      <td>0.222600</td>\n",
              "      <td>1.058000</td>\n",
              "      <td>1.252000</td>\n",
              "      <td>0.291000</td>\n",
              "      <td>0.663800</td>\n",
              "      <td>0.207500</td>\n",
              "      <td>1.000000</td>\n",
              "    </tr>\n",
              "  </tbody>\n",
              "</table>\n",
              "<p>8 rows × 31 columns</p>\n",
              "</div>\n",
              "      <button class=\"colab-df-convert\" onclick=\"convertToInteractive('df-2a3ac2a6-2ae3-44f5-9e6f-00272eeae969')\"\n",
              "              title=\"Convert this dataframe to an interactive table.\"\n",
              "              style=\"display:none;\">\n",
              "        \n",
              "  <svg xmlns=\"http://www.w3.org/2000/svg\" height=\"24px\"viewBox=\"0 0 24 24\"\n",
              "       width=\"24px\">\n",
              "    <path d=\"M0 0h24v24H0V0z\" fill=\"none\"/>\n",
              "    <path d=\"M18.56 5.44l.94 2.06.94-2.06 2.06-.94-2.06-.94-.94-2.06-.94 2.06-2.06.94zm-11 1L8.5 8.5l.94-2.06 2.06-.94-2.06-.94L8.5 2.5l-.94 2.06-2.06.94zm10 10l.94 2.06.94-2.06 2.06-.94-2.06-.94-.94-2.06-.94 2.06-2.06.94z\"/><path d=\"M17.41 7.96l-1.37-1.37c-.4-.4-.92-.59-1.43-.59-.52 0-1.04.2-1.43.59L10.3 9.45l-7.72 7.72c-.78.78-.78 2.05 0 2.83L4 21.41c.39.39.9.59 1.41.59.51 0 1.02-.2 1.41-.59l7.78-7.78 2.81-2.81c.8-.78.8-2.07 0-2.86zM5.41 20L4 18.59l7.72-7.72 1.47 1.35L5.41 20z\"/>\n",
              "  </svg>\n",
              "      </button>\n",
              "      \n",
              "  <style>\n",
              "    .colab-df-container {\n",
              "      display:flex;\n",
              "      flex-wrap:wrap;\n",
              "      gap: 12px;\n",
              "    }\n",
              "\n",
              "    .colab-df-convert {\n",
              "      background-color: #E8F0FE;\n",
              "      border: none;\n",
              "      border-radius: 50%;\n",
              "      cursor: pointer;\n",
              "      display: none;\n",
              "      fill: #1967D2;\n",
              "      height: 32px;\n",
              "      padding: 0 0 0 0;\n",
              "      width: 32px;\n",
              "    }\n",
              "\n",
              "    .colab-df-convert:hover {\n",
              "      background-color: #E2EBFA;\n",
              "      box-shadow: 0px 1px 2px rgba(60, 64, 67, 0.3), 0px 1px 3px 1px rgba(60, 64, 67, 0.15);\n",
              "      fill: #174EA6;\n",
              "    }\n",
              "\n",
              "    [theme=dark] .colab-df-convert {\n",
              "      background-color: #3B4455;\n",
              "      fill: #D2E3FC;\n",
              "    }\n",
              "\n",
              "    [theme=dark] .colab-df-convert:hover {\n",
              "      background-color: #434B5C;\n",
              "      box-shadow: 0px 1px 3px 1px rgba(0, 0, 0, 0.15);\n",
              "      filter: drop-shadow(0px 1px 2px rgba(0, 0, 0, 0.3));\n",
              "      fill: #FFFFFF;\n",
              "    }\n",
              "  </style>\n",
              "\n",
              "      <script>\n",
              "        const buttonEl =\n",
              "          document.querySelector('#df-2a3ac2a6-2ae3-44f5-9e6f-00272eeae969 button.colab-df-convert');\n",
              "        buttonEl.style.display =\n",
              "          google.colab.kernel.accessAllowed ? 'block' : 'none';\n",
              "\n",
              "        async function convertToInteractive(key) {\n",
              "          const element = document.querySelector('#df-2a3ac2a6-2ae3-44f5-9e6f-00272eeae969');\n",
              "          const dataTable =\n",
              "            await google.colab.kernel.invokeFunction('convertToInteractive',\n",
              "                                                     [key], {});\n",
              "          if (!dataTable) return;\n",
              "\n",
              "          const docLinkHtml = 'Like what you see? Visit the ' +\n",
              "            '<a target=\"_blank\" href=https://colab.research.google.com/notebooks/data_table.ipynb>data table notebook</a>'\n",
              "            + ' to learn more about interactive tables.';\n",
              "          element.innerHTML = '';\n",
              "          dataTable['output_type'] = 'display_data';\n",
              "          await google.colab.output.renderOutput(dataTable, element);\n",
              "          const docLink = document.createElement('div');\n",
              "          docLink.innerHTML = docLinkHtml;\n",
              "          element.appendChild(docLink);\n",
              "        }\n",
              "      </script>\n",
              "    </div>\n",
              "  </div>\n",
              "  "
            ]
          },
          "metadata": {},
          "execution_count": 11
        }
      ]
    },
    {
      "cell_type": "code",
      "source": [
        "# checking the distribution of Target Varibale\n",
        "data_frame['label'].value_counts()"
      ],
      "metadata": {
        "colab": {
          "base_uri": "https://localhost:8080/"
        },
        "id": "mQvZzj_cFy-2",
        "outputId": "4c29b99f-ba83-4d8e-ca9c-30d1be612476"
      },
      "execution_count": 12,
      "outputs": [
        {
          "output_type": "execute_result",
          "data": {
            "text/plain": [
              "1    357\n",
              "0    212\n",
              "Name: label, dtype: int64"
            ]
          },
          "metadata": {},
          "execution_count": 12
        }
      ]
    },
    {
      "cell_type": "markdown",
      "source": [
        "1 --> Benign\n",
        "\n",
        "0 --> Malignant"
      ],
      "metadata": {
        "id": "pp_TCHl9F4zI"
      }
    },
    {
      "cell_type": "code",
      "source": [
        "data_frame.groupby('label').mean()"
      ],
      "metadata": {
        "colab": {
          "base_uri": "https://localhost:8080/",
          "height": 271
        },
        "id": "KlmuJfWaF52y",
        "outputId": "c1bb646a-dddf-410e-893a-10d157ecb2c1"
      },
      "execution_count": 13,
      "outputs": [
        {
          "output_type": "execute_result",
          "data": {
            "text/plain": [
              "       mean radius  mean texture  mean perimeter   mean area  mean smoothness  \\\n",
              "label                                                                           \n",
              "0        17.462830     21.604906      115.365377  978.376415         0.102898   \n",
              "1        12.146524     17.914762       78.075406  462.790196         0.092478   \n",
              "\n",
              "       mean compactness  mean concavity  mean concave points  mean symmetry  \\\n",
              "label                                                                         \n",
              "0              0.145188        0.160775             0.087990       0.192909   \n",
              "1              0.080085        0.046058             0.025717       0.174186   \n",
              "\n",
              "       mean fractal dimension  ...  worst radius  worst texture  \\\n",
              "label                          ...                                \n",
              "0                    0.062680  ...     21.134811      29.318208   \n",
              "1                    0.062867  ...     13.379801      23.515070   \n",
              "\n",
              "       worst perimeter   worst area  worst smoothness  worst compactness  \\\n",
              "label                                                                      \n",
              "0           141.370330  1422.286321          0.144845           0.374824   \n",
              "1            87.005938   558.899440          0.124959           0.182673   \n",
              "\n",
              "       worst concavity  worst concave points  worst symmetry  \\\n",
              "label                                                          \n",
              "0             0.450606              0.182237        0.323468   \n",
              "1             0.166238              0.074444        0.270246   \n",
              "\n",
              "       worst fractal dimension  \n",
              "label                           \n",
              "0                     0.091530  \n",
              "1                     0.079442  \n",
              "\n",
              "[2 rows x 30 columns]"
            ],
            "text/html": [
              "\n",
              "  <div id=\"df-54979f99-536b-459d-b6d4-3856935a47b3\">\n",
              "    <div class=\"colab-df-container\">\n",
              "      <div>\n",
              "<style scoped>\n",
              "    .dataframe tbody tr th:only-of-type {\n",
              "        vertical-align: middle;\n",
              "    }\n",
              "\n",
              "    .dataframe tbody tr th {\n",
              "        vertical-align: top;\n",
              "    }\n",
              "\n",
              "    .dataframe thead th {\n",
              "        text-align: right;\n",
              "    }\n",
              "</style>\n",
              "<table border=\"1\" class=\"dataframe\">\n",
              "  <thead>\n",
              "    <tr style=\"text-align: right;\">\n",
              "      <th></th>\n",
              "      <th>mean radius</th>\n",
              "      <th>mean texture</th>\n",
              "      <th>mean perimeter</th>\n",
              "      <th>mean area</th>\n",
              "      <th>mean smoothness</th>\n",
              "      <th>mean compactness</th>\n",
              "      <th>mean concavity</th>\n",
              "      <th>mean concave points</th>\n",
              "      <th>mean symmetry</th>\n",
              "      <th>mean fractal dimension</th>\n",
              "      <th>...</th>\n",
              "      <th>worst radius</th>\n",
              "      <th>worst texture</th>\n",
              "      <th>worst perimeter</th>\n",
              "      <th>worst area</th>\n",
              "      <th>worst smoothness</th>\n",
              "      <th>worst compactness</th>\n",
              "      <th>worst concavity</th>\n",
              "      <th>worst concave points</th>\n",
              "      <th>worst symmetry</th>\n",
              "      <th>worst fractal dimension</th>\n",
              "    </tr>\n",
              "    <tr>\n",
              "      <th>label</th>\n",
              "      <th></th>\n",
              "      <th></th>\n",
              "      <th></th>\n",
              "      <th></th>\n",
              "      <th></th>\n",
              "      <th></th>\n",
              "      <th></th>\n",
              "      <th></th>\n",
              "      <th></th>\n",
              "      <th></th>\n",
              "      <th></th>\n",
              "      <th></th>\n",
              "      <th></th>\n",
              "      <th></th>\n",
              "      <th></th>\n",
              "      <th></th>\n",
              "      <th></th>\n",
              "      <th></th>\n",
              "      <th></th>\n",
              "      <th></th>\n",
              "      <th></th>\n",
              "    </tr>\n",
              "  </thead>\n",
              "  <tbody>\n",
              "    <tr>\n",
              "      <th>0</th>\n",
              "      <td>17.462830</td>\n",
              "      <td>21.604906</td>\n",
              "      <td>115.365377</td>\n",
              "      <td>978.376415</td>\n",
              "      <td>0.102898</td>\n",
              "      <td>0.145188</td>\n",
              "      <td>0.160775</td>\n",
              "      <td>0.087990</td>\n",
              "      <td>0.192909</td>\n",
              "      <td>0.062680</td>\n",
              "      <td>...</td>\n",
              "      <td>21.134811</td>\n",
              "      <td>29.318208</td>\n",
              "      <td>141.370330</td>\n",
              "      <td>1422.286321</td>\n",
              "      <td>0.144845</td>\n",
              "      <td>0.374824</td>\n",
              "      <td>0.450606</td>\n",
              "      <td>0.182237</td>\n",
              "      <td>0.323468</td>\n",
              "      <td>0.091530</td>\n",
              "    </tr>\n",
              "    <tr>\n",
              "      <th>1</th>\n",
              "      <td>12.146524</td>\n",
              "      <td>17.914762</td>\n",
              "      <td>78.075406</td>\n",
              "      <td>462.790196</td>\n",
              "      <td>0.092478</td>\n",
              "      <td>0.080085</td>\n",
              "      <td>0.046058</td>\n",
              "      <td>0.025717</td>\n",
              "      <td>0.174186</td>\n",
              "      <td>0.062867</td>\n",
              "      <td>...</td>\n",
              "      <td>13.379801</td>\n",
              "      <td>23.515070</td>\n",
              "      <td>87.005938</td>\n",
              "      <td>558.899440</td>\n",
              "      <td>0.124959</td>\n",
              "      <td>0.182673</td>\n",
              "      <td>0.166238</td>\n",
              "      <td>0.074444</td>\n",
              "      <td>0.270246</td>\n",
              "      <td>0.079442</td>\n",
              "    </tr>\n",
              "  </tbody>\n",
              "</table>\n",
              "<p>2 rows × 30 columns</p>\n",
              "</div>\n",
              "      <button class=\"colab-df-convert\" onclick=\"convertToInteractive('df-54979f99-536b-459d-b6d4-3856935a47b3')\"\n",
              "              title=\"Convert this dataframe to an interactive table.\"\n",
              "              style=\"display:none;\">\n",
              "        \n",
              "  <svg xmlns=\"http://www.w3.org/2000/svg\" height=\"24px\"viewBox=\"0 0 24 24\"\n",
              "       width=\"24px\">\n",
              "    <path d=\"M0 0h24v24H0V0z\" fill=\"none\"/>\n",
              "    <path d=\"M18.56 5.44l.94 2.06.94-2.06 2.06-.94-2.06-.94-.94-2.06-.94 2.06-2.06.94zm-11 1L8.5 8.5l.94-2.06 2.06-.94-2.06-.94L8.5 2.5l-.94 2.06-2.06.94zm10 10l.94 2.06.94-2.06 2.06-.94-2.06-.94-.94-2.06-.94 2.06-2.06.94z\"/><path d=\"M17.41 7.96l-1.37-1.37c-.4-.4-.92-.59-1.43-.59-.52 0-1.04.2-1.43.59L10.3 9.45l-7.72 7.72c-.78.78-.78 2.05 0 2.83L4 21.41c.39.39.9.59 1.41.59.51 0 1.02-.2 1.41-.59l7.78-7.78 2.81-2.81c.8-.78.8-2.07 0-2.86zM5.41 20L4 18.59l7.72-7.72 1.47 1.35L5.41 20z\"/>\n",
              "  </svg>\n",
              "      </button>\n",
              "      \n",
              "  <style>\n",
              "    .colab-df-container {\n",
              "      display:flex;\n",
              "      flex-wrap:wrap;\n",
              "      gap: 12px;\n",
              "    }\n",
              "\n",
              "    .colab-df-convert {\n",
              "      background-color: #E8F0FE;\n",
              "      border: none;\n",
              "      border-radius: 50%;\n",
              "      cursor: pointer;\n",
              "      display: none;\n",
              "      fill: #1967D2;\n",
              "      height: 32px;\n",
              "      padding: 0 0 0 0;\n",
              "      width: 32px;\n",
              "    }\n",
              "\n",
              "    .colab-df-convert:hover {\n",
              "      background-color: #E2EBFA;\n",
              "      box-shadow: 0px 1px 2px rgba(60, 64, 67, 0.3), 0px 1px 3px 1px rgba(60, 64, 67, 0.15);\n",
              "      fill: #174EA6;\n",
              "    }\n",
              "\n",
              "    [theme=dark] .colab-df-convert {\n",
              "      background-color: #3B4455;\n",
              "      fill: #D2E3FC;\n",
              "    }\n",
              "\n",
              "    [theme=dark] .colab-df-convert:hover {\n",
              "      background-color: #434B5C;\n",
              "      box-shadow: 0px 1px 3px 1px rgba(0, 0, 0, 0.15);\n",
              "      filter: drop-shadow(0px 1px 2px rgba(0, 0, 0, 0.3));\n",
              "      fill: #FFFFFF;\n",
              "    }\n",
              "  </style>\n",
              "\n",
              "      <script>\n",
              "        const buttonEl =\n",
              "          document.querySelector('#df-54979f99-536b-459d-b6d4-3856935a47b3 button.colab-df-convert');\n",
              "        buttonEl.style.display =\n",
              "          google.colab.kernel.accessAllowed ? 'block' : 'none';\n",
              "\n",
              "        async function convertToInteractive(key) {\n",
              "          const element = document.querySelector('#df-54979f99-536b-459d-b6d4-3856935a47b3');\n",
              "          const dataTable =\n",
              "            await google.colab.kernel.invokeFunction('convertToInteractive',\n",
              "                                                     [key], {});\n",
              "          if (!dataTable) return;\n",
              "\n",
              "          const docLinkHtml = 'Like what you see? Visit the ' +\n",
              "            '<a target=\"_blank\" href=https://colab.research.google.com/notebooks/data_table.ipynb>data table notebook</a>'\n",
              "            + ' to learn more about interactive tables.';\n",
              "          element.innerHTML = '';\n",
              "          dataTable['output_type'] = 'display_data';\n",
              "          await google.colab.output.renderOutput(dataTable, element);\n",
              "          const docLink = document.createElement('div');\n",
              "          docLink.innerHTML = docLinkHtml;\n",
              "          element.appendChild(docLink);\n",
              "        }\n",
              "      </script>\n",
              "    </div>\n",
              "  </div>\n",
              "  "
            ]
          },
          "metadata": {},
          "execution_count": 13
        }
      ]
    },
    {
      "cell_type": "markdown",
      "source": [
        "**Separating the features and target**"
      ],
      "metadata": {
        "id": "BQXCQWBCGGRh"
      }
    },
    {
      "cell_type": "code",
      "source": [
        "X = data_frame.drop(columns='label', axis=1)\n",
        "Y = data_frame['label']"
      ],
      "metadata": {
        "id": "9kCEvo-GGK48"
      },
      "execution_count": 14,
      "outputs": []
    },
    {
      "cell_type": "code",
      "source": [
        "print(X)"
      ],
      "metadata": {
        "colab": {
          "base_uri": "https://localhost:8080/"
        },
        "id": "jfUWexgtGUxF",
        "outputId": "ecb29d0f-aea5-4f09-a43e-10a6ff72b225"
      },
      "execution_count": 15,
      "outputs": [
        {
          "output_type": "stream",
          "name": "stdout",
          "text": [
            "     mean radius  mean texture  mean perimeter  mean area  mean smoothness  \\\n",
            "0          17.99         10.38          122.80     1001.0          0.11840   \n",
            "1          20.57         17.77          132.90     1326.0          0.08474   \n",
            "2          19.69         21.25          130.00     1203.0          0.10960   \n",
            "3          11.42         20.38           77.58      386.1          0.14250   \n",
            "4          20.29         14.34          135.10     1297.0          0.10030   \n",
            "..           ...           ...             ...        ...              ...   \n",
            "564        21.56         22.39          142.00     1479.0          0.11100   \n",
            "565        20.13         28.25          131.20     1261.0          0.09780   \n",
            "566        16.60         28.08          108.30      858.1          0.08455   \n",
            "567        20.60         29.33          140.10     1265.0          0.11780   \n",
            "568         7.76         24.54           47.92      181.0          0.05263   \n",
            "\n",
            "     mean compactness  mean concavity  mean concave points  mean symmetry  \\\n",
            "0             0.27760         0.30010              0.14710         0.2419   \n",
            "1             0.07864         0.08690              0.07017         0.1812   \n",
            "2             0.15990         0.19740              0.12790         0.2069   \n",
            "3             0.28390         0.24140              0.10520         0.2597   \n",
            "4             0.13280         0.19800              0.10430         0.1809   \n",
            "..                ...             ...                  ...            ...   \n",
            "564           0.11590         0.24390              0.13890         0.1726   \n",
            "565           0.10340         0.14400              0.09791         0.1752   \n",
            "566           0.10230         0.09251              0.05302         0.1590   \n",
            "567           0.27700         0.35140              0.15200         0.2397   \n",
            "568           0.04362         0.00000              0.00000         0.1587   \n",
            "\n",
            "     mean fractal dimension  ...  worst radius  worst texture  \\\n",
            "0                   0.07871  ...        25.380          17.33   \n",
            "1                   0.05667  ...        24.990          23.41   \n",
            "2                   0.05999  ...        23.570          25.53   \n",
            "3                   0.09744  ...        14.910          26.50   \n",
            "4                   0.05883  ...        22.540          16.67   \n",
            "..                      ...  ...           ...            ...   \n",
            "564                 0.05623  ...        25.450          26.40   \n",
            "565                 0.05533  ...        23.690          38.25   \n",
            "566                 0.05648  ...        18.980          34.12   \n",
            "567                 0.07016  ...        25.740          39.42   \n",
            "568                 0.05884  ...         9.456          30.37   \n",
            "\n",
            "     worst perimeter  worst area  worst smoothness  worst compactness  \\\n",
            "0             184.60      2019.0           0.16220            0.66560   \n",
            "1             158.80      1956.0           0.12380            0.18660   \n",
            "2             152.50      1709.0           0.14440            0.42450   \n",
            "3              98.87       567.7           0.20980            0.86630   \n",
            "4             152.20      1575.0           0.13740            0.20500   \n",
            "..               ...         ...               ...                ...   \n",
            "564           166.10      2027.0           0.14100            0.21130   \n",
            "565           155.00      1731.0           0.11660            0.19220   \n",
            "566           126.70      1124.0           0.11390            0.30940   \n",
            "567           184.60      1821.0           0.16500            0.86810   \n",
            "568            59.16       268.6           0.08996            0.06444   \n",
            "\n",
            "     worst concavity  worst concave points  worst symmetry  \\\n",
            "0             0.7119                0.2654          0.4601   \n",
            "1             0.2416                0.1860          0.2750   \n",
            "2             0.4504                0.2430          0.3613   \n",
            "3             0.6869                0.2575          0.6638   \n",
            "4             0.4000                0.1625          0.2364   \n",
            "..               ...                   ...             ...   \n",
            "564           0.4107                0.2216          0.2060   \n",
            "565           0.3215                0.1628          0.2572   \n",
            "566           0.3403                0.1418          0.2218   \n",
            "567           0.9387                0.2650          0.4087   \n",
            "568           0.0000                0.0000          0.2871   \n",
            "\n",
            "     worst fractal dimension  \n",
            "0                    0.11890  \n",
            "1                    0.08902  \n",
            "2                    0.08758  \n",
            "3                    0.17300  \n",
            "4                    0.07678  \n",
            "..                       ...  \n",
            "564                  0.07115  \n",
            "565                  0.06637  \n",
            "566                  0.07820  \n",
            "567                  0.12400  \n",
            "568                  0.07039  \n",
            "\n",
            "[569 rows x 30 columns]\n"
          ]
        }
      ]
    },
    {
      "cell_type": "code",
      "source": [
        "print(Y)"
      ],
      "metadata": {
        "colab": {
          "base_uri": "https://localhost:8080/"
        },
        "id": "uW3lhWaFGaUH",
        "outputId": "596be3ea-de98-4210-fbca-1f098c949a1a"
      },
      "execution_count": 16,
      "outputs": [
        {
          "output_type": "stream",
          "name": "stdout",
          "text": [
            "0      0\n",
            "1      0\n",
            "2      0\n",
            "3      0\n",
            "4      0\n",
            "      ..\n",
            "564    0\n",
            "565    0\n",
            "566    0\n",
            "567    0\n",
            "568    1\n",
            "Name: label, Length: 569, dtype: int64\n"
          ]
        }
      ]
    },
    {
      "cell_type": "markdown",
      "source": [
        "**Splitting the data into training data & Testing data**"
      ],
      "metadata": {
        "id": "wUjAYuzXGf-s"
      }
    },
    {
      "cell_type": "code",
      "source": [
        "X_train, X_test, Y_train, Y_test = train_test_split(X, Y, test_size=0.2, random_state=2)"
      ],
      "metadata": {
        "id": "IGAZzalNGiZ7"
      },
      "execution_count": 17,
      "outputs": []
    },
    {
      "cell_type": "code",
      "source": [
        "print(X.shape, X_train.shape, X_test.shape)"
      ],
      "metadata": {
        "colab": {
          "base_uri": "https://localhost:8080/"
        },
        "id": "5qmGczKoGoO2",
        "outputId": "5507c90e-cc73-4bbc-ae6d-6ccf1110c229"
      },
      "execution_count": 18,
      "outputs": [
        {
          "output_type": "stream",
          "name": "stdout",
          "text": [
            "(569, 30) (455, 30) (114, 30)\n"
          ]
        }
      ]
    },
    {
      "cell_type": "markdown",
      "source": [
        "**Standardize the data**"
      ],
      "metadata": {
        "id": "L8-8E1vsGu_k"
      }
    },
    {
      "cell_type": "code",
      "source": [
        "from sklearn.preprocessing import StandardScaler"
      ],
      "metadata": {
        "id": "LUaaedN1GyBH"
      },
      "execution_count": 19,
      "outputs": []
    },
    {
      "cell_type": "code",
      "source": [
        "scaler = StandardScaler()\n",
        "\n",
        "X_train_std = scaler.fit_transform(X_train)\n",
        "\n",
        "X_test_std = scaler.transform(X_test)"
      ],
      "metadata": {
        "id": "WSznrnOFG6oc"
      },
      "execution_count": 20,
      "outputs": []
    },
    {
      "cell_type": "markdown",
      "source": [
        "**Building the Neural Network**"
      ],
      "metadata": {
        "id": "SNOHQBHOG8vW"
      }
    },
    {
      "cell_type": "markdown",
      "source": [
        "![image.png](data:image/png;base64,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)"
      ],
      "metadata": {
        "id": "uk18Kbw6HByv"
      }
    },
    {
      "cell_type": "code",
      "source": [
        "# importing tensorflow and Keras\n",
        "import tensorflow as tf\n",
        "tf.random.set_seed(3)\n",
        "from tensorflow import keras"
      ],
      "metadata": {
        "id": "SZ4BFvVSHJ77"
      },
      "execution_count": 21,
      "outputs": []
    },
    {
      "cell_type": "code",
      "source": [
        "# setting up the layers of Neural Network\n",
        "\n",
        "model = keras.Sequential([\n",
        "                          keras.layers.Flatten(input_shape=(30,)),\n",
        "                          keras.layers.Dense(20, activation='relu'),\n",
        "                          keras.layers.Dense(2, activation='sigmoid')\n",
        "])"
      ],
      "metadata": {
        "id": "PKj0nSa1HT5e"
      },
      "execution_count": 22,
      "outputs": []
    },
    {
      "cell_type": "code",
      "source": [
        "# compiling the Neural Network\n",
        "\n",
        "model.compile(optimizer='adam',\n",
        "              loss='sparse_categorical_crossentropy',\n",
        "              metrics=['accuracy'])"
      ],
      "metadata": {
        "id": "vPpn5ilwHWDK"
      },
      "execution_count": 23,
      "outputs": []
    },
    {
      "cell_type": "code",
      "source": [
        "# training the Meural Network\n",
        "\n",
        "history = model.fit(X_train_std, Y_train, validation_split=0.1, epochs=10)"
      ],
      "metadata": {
        "colab": {
          "base_uri": "https://localhost:8080/"
        },
        "id": "dYbxID5tHdTJ",
        "outputId": "a6558eca-ec5d-46cd-a1da-8143fc5b80f3"
      },
      "execution_count": 24,
      "outputs": [
        {
          "output_type": "stream",
          "name": "stdout",
          "text": [
            "Epoch 1/10\n",
            "13/13 [==============================] - 1s 23ms/step - loss: 0.7572 - accuracy: 0.6284 - val_loss: 0.4658 - val_accuracy: 0.8043\n",
            "Epoch 2/10\n",
            "13/13 [==============================] - 0s 6ms/step - loss: 0.5533 - accuracy: 0.7311 - val_loss: 0.3407 - val_accuracy: 0.8478\n",
            "Epoch 3/10\n",
            "13/13 [==============================] - 0s 5ms/step - loss: 0.4141 - accuracy: 0.8142 - val_loss: 0.2666 - val_accuracy: 0.8913\n",
            "Epoch 4/10\n",
            "13/13 [==============================] - 0s 5ms/step - loss: 0.3287 - accuracy: 0.8655 - val_loss: 0.2198 - val_accuracy: 0.9348\n",
            "Epoch 5/10\n",
            "13/13 [==============================] - 0s 6ms/step - loss: 0.2728 - accuracy: 0.9071 - val_loss: 0.1872 - val_accuracy: 0.9565\n",
            "Epoch 6/10\n",
            "13/13 [==============================] - 0s 5ms/step - loss: 0.2338 - accuracy: 0.9169 - val_loss: 0.1634 - val_accuracy: 0.9565\n",
            "Epoch 7/10\n",
            "13/13 [==============================] - 0s 5ms/step - loss: 0.2040 - accuracy: 0.9218 - val_loss: 0.1462 - val_accuracy: 0.9565\n",
            "Epoch 8/10\n",
            "13/13 [==============================] - 0s 5ms/step - loss: 0.1824 - accuracy: 0.9340 - val_loss: 0.1325 - val_accuracy: 0.9783\n",
            "Epoch 9/10\n",
            "13/13 [==============================] - 0s 5ms/step - loss: 0.1657 - accuracy: 0.9364 - val_loss: 0.1207 - val_accuracy: 0.9783\n",
            "Epoch 10/10\n",
            "13/13 [==============================] - 0s 6ms/step - loss: 0.1512 - accuracy: 0.9413 - val_loss: 0.1118 - val_accuracy: 0.9783\n"
          ]
        }
      ]
    },
    {
      "cell_type": "markdown",
      "source": [
        "**Visualizing accuracy and loss**"
      ],
      "metadata": {
        "id": "gaiSOH3OHlFM"
      }
    },
    {
      "cell_type": "code",
      "source": [
        "plt.plot(history.history['accuracy'])\n",
        "plt.plot(history.history['val_accuracy'])\n",
        "\n",
        "plt.title('model accuracy')\n",
        "plt.ylabel('accuracy')\n",
        "plt.xlabel('epoch')\n",
        "\n",
        "plt.legend(['training data', 'validation data'], loc = 'lower right')"
      ],
      "metadata": {
        "colab": {
          "base_uri": "https://localhost:8080/",
          "height": 489
        },
        "id": "DkwkLvn7HopY",
        "outputId": "e38bd85f-c65b-43cd-c77d-6692b7608826"
      },
      "execution_count": 25,
      "outputs": [
        {
          "output_type": "execute_result",
          "data": {
            "text/plain": [
              "<matplotlib.legend.Legend at 0x7fdfb6d3b6a0>"
            ]
          },
          "metadata": {},
          "execution_count": 25
        },
        {
          "output_type": "display_data",
          "data": {
            "text/plain": [
              "<Figure size 640x480 with 1 Axes>"
            ],
            "image/png": "[encoded data removed]"
          },
          "metadata": {}
        }
      ]
    },
    {
      "cell_type": "code",
      "source": [
        "plt.plot(history.history['loss'])\n",
        "plt.plot(history.history['val_loss'])\n",
        "\n",
        "plt.title('model loss')\n",
        "plt.ylabel('loss')\n",
        "plt.xlabel('epoch')\n",
        "\n",
        "plt.legend(['training data', 'validation data'], loc = 'upper right')"
      ],
      "metadata": {
        "colab": {
          "base_uri": "https://localhost:8080/",
          "height": 489
        },
        "id": "5HE9AI89H6pF",
        "outputId": "5f70c6ed-1415-4b5e-b707-d4a0e0f8dd40"
      },
      "execution_count": 26,
      "outputs": [
        {
          "output_type": "execute_result",
          "data": {
            "text/plain": [
              "<matplotlib.legend.Legend at 0x7fdfb7f77d90>"
            ]
          },
          "metadata": {},
          "execution_count": 26
        },
        {
          "output_type": "display_data",
          "data": {
            "text/plain": [
              "<Figure size 640x480 with 1 Axes>"
            ],
            "image/png": "[encoded data removed]"
          },
          "metadata": {}
        }
      ]
    },
    {
      "cell_type": "markdown",
      "source": [
        "**Accuracy of the model on test data**"
      ],
      "metadata": {
        "id": "BWBTBwDPICNX"
      }
    },
    {
      "cell_type": "code",
      "source": [
        "loss, accuracy = model.evaluate(X_test_std, Y_test)\n",
        "print(accuracy)"
      ],
      "metadata": {
        "colab": {
          "base_uri": "https://localhost:8080/"
        },
        "id": "A4q8BQcbIEU1",
        "outputId": "b2eb148b-37d7-461f-ea37-7fa9fefdb70e"
      },
      "execution_count": 27,
      "outputs": [
        {
          "output_type": "stream",
          "name": "stdout",
          "text": [
            "4/4 [==============================] - 0s 4ms/step - loss: 0.1415 - accuracy: 0.9474\n",
            "0.9473684430122375\n"
          ]
        }
      ]
    },
    {
      "cell_type": "code",
      "source": [
        "print(X_test_std.shape)\n",
        "print(X_test_std[0])"
      ],
      "metadata": {
        "colab": {
          "base_uri": "https://localhost:8080/"
        },
        "id": "fxm8VChbIJI0",
        "outputId": "a30a2dcc-6ca2-451c-cf64-22f869f392f7"
      },
      "execution_count": 28,
      "outputs": [
        {
          "output_type": "stream",
          "name": "stdout",
          "text": [
            "(114, 30)\n",
            "[-0.04462793 -1.41612656 -0.05903514 -0.16234067  2.0202457  -0.11323672\n",
            "  0.18500609  0.47102419  0.63336386  0.26335737  0.53209124  2.62763999\n",
            "  0.62351167  0.11405261  1.01246781  0.41126289  0.63848593  2.88971815\n",
            " -0.41675911  0.74270853 -0.32983699 -1.67435595 -0.36854552 -0.38767294\n",
            "  0.32655007 -0.74858917 -0.54689089 -0.18278004 -1.23064515 -0.6268286 ]\n"
          ]
        }
      ]
    },
    {
      "cell_type": "code",
      "source": [
        "Y_pred = model.predict(X_test_std)"
      ],
      "metadata": {
        "colab": {
          "base_uri": "https://localhost:8080/"
        },
        "id": "oCrz8M_hIOa7",
        "outputId": "173ca759-94aa-419a-faed-91cac34eb540"
      },
      "execution_count": 29,
      "outputs": [
        {
          "output_type": "stream",
          "name": "stdout",
          "text": [
            "4/4 [==============================] - 0s 4ms/step\n"
          ]
        }
      ]
    },
    {
      "cell_type": "code",
      "source": [
        "print(Y_pred.shape)\n",
        "print(Y_pred[0])"
      ],
      "metadata": {
        "colab": {
          "base_uri": "https://localhost:8080/"
        },
        "id": "uUQCRdU0ITdt",
        "outputId": "fb1f3483-ca3a-4621-8b49-d5ffda965fac"
      },
      "execution_count": 30,
      "outputs": [
        {
          "output_type": "stream",
          "name": "stdout",
          "text": [
            "(114, 2)\n",
            "[0.12068867 0.29172623]\n"
          ]
        }
      ]
    },
    {
      "cell_type": "code",
      "source": [
        "print(X_test_std)"
      ],
      "metadata": {
        "colab": {
          "base_uri": "https://localhost:8080/"
        },
        "id": "8uJ2ST1DIbI6",
        "outputId": "52944cac-dc5a-45ef-d22e-7a398e43ea43"
      },
      "execution_count": 31,
      "outputs": [
        {
          "output_type": "stream",
          "name": "stdout",
          "text": [
            "[[-0.04462793 -1.41612656 -0.05903514 ... -0.18278004 -1.23064515\n",
            "  -0.6268286 ]\n",
            " [ 0.24583601 -0.06219797  0.21802678 ...  0.54129749  0.11047691\n",
            "   0.0483572 ]\n",
            " [-1.26115925 -0.29051645 -1.26499659 ... -1.35138617  0.269338\n",
            "  -0.28231213]\n",
            " ...\n",
            " [ 0.72709489  0.45836817  0.75277276 ...  1.46701686  1.19909344\n",
            "   0.65319961]\n",
            " [ 0.25437907  1.33054477  0.15659489 ... -1.29043534 -2.22561725\n",
            "  -1.59557344]\n",
            " [ 0.84100232 -0.06676434  0.8929529  ...  2.15137705  0.35629355\n",
            "   0.37459546]]\n"
          ]
        }
      ]
    },
    {
      "cell_type": "code",
      "source": [
        "print(Y_pred)"
      ],
      "metadata": {
        "colab": {
          "base_uri": "https://localhost:8080/"
        },
        "id": "XNqfolT_Icu7",
        "outputId": "25ef3ecc-9579-42ab-df21-1e4ba7d6fa82"
      },
      "execution_count": 32,
      "outputs": [
        {
          "output_type": "stream",
          "name": "stdout",
          "text": [
            "[[1.20688669e-01 2.91726232e-01]\n",
            " [4.54757541e-01 5.26521921e-01]\n",
            " [6.30040746e-03 9.09165204e-01]\n",
            " [4.57282722e-01 6.94698883e-06]\n",
            " [5.03755093e-01 4.03314292e-01]\n",
            " [2.11269245e-01 4.84294351e-03]\n",
            " [6.65689260e-02 4.43722874e-01]\n",
            " [4.33460996e-02 8.89677107e-01]\n",
            " [7.66175762e-02 7.43935943e-01]\n",
            " [1.36519492e-01 6.91629708e-01]\n",
            " [3.65139931e-01 6.67559266e-01]\n",
            " [1.17608942e-01 8.79427135e-01]\n",
            " [9.23650265e-02 4.26040113e-01]\n",
            " [1.63402393e-01 7.23944664e-01]\n",
            " [2.69790292e-02 7.01796055e-01]\n",
            " [4.39623505e-01 3.55222821e-02]\n",
            " [4.31862287e-02 8.02570581e-01]\n",
            " [2.35327501e-02 7.22391665e-01]\n",
            " [5.04185297e-02 4.17857885e-01]\n",
            " [4.03694123e-01 9.12097283e-03]\n",
            " [2.03115540e-03 1.47726107e-02]\n",
            " [4.09728251e-02 7.85602450e-01]\n",
            " [7.26903826e-02 7.50427544e-01]\n",
            " [5.81865013e-02 8.26641023e-01]\n",
            " [2.36180007e-01 6.50073349e-01]\n",
            " [4.39706385e-01 5.19625954e-02]\n",
            " [1.54136583e-01 6.94594860e-01]\n",
            " [4.49990600e-01 5.25681436e-01]\n",
            " [4.41473037e-01 1.41057596e-01]\n",
            " [4.32867050e-01 7.49143362e-02]\n",
            " [3.65735501e-01 7.06173360e-01]\n",
            " [6.73600808e-02 6.76226676e-01]\n",
            " [1.22464597e-01 7.07216084e-01]\n",
            " [2.31106132e-01 5.32294437e-03]\n",
            " [5.67526519e-01 5.39363641e-03]\n",
            " [9.28314179e-02 3.49632531e-01]\n",
            " [2.75173690e-02 8.08588207e-01]\n",
            " [2.08381012e-01 6.70352876e-01]\n",
            " [1.73868053e-02 8.94161999e-01]\n",
            " [5.64096980e-02 7.79381931e-01]\n",
            " [4.68990654e-01 4.72940046e-05]\n",
            " [4.26304460e-01 2.46305928e-01]\n",
            " [7.69094797e-03 7.48861670e-01]\n",
            " [1.99915227e-02 7.53920197e-01]\n",
            " [5.23554325e-01 1.13850519e-01]\n",
            " [5.49632087e-02 8.32193017e-01]\n",
            " [1.14562670e-02 9.54637527e-01]\n",
            " [8.82540457e-03 5.67570448e-01]\n",
            " [3.72530103e-01 1.64236873e-02]\n",
            " [5.25466681e-01 5.55634499e-02]\n",
            " [1.96373180e-01 6.19871914e-01]\n",
            " [5.34068406e-01 2.51518458e-01]\n",
            " [4.20963258e-01 4.45025325e-01]\n",
            " [4.68678586e-02 7.15709150e-01]\n",
            " [1.15647763e-02 8.45777810e-01]\n",
            " [4.32730913e-01 5.42494893e-01]\n",
            " [9.06415507e-02 7.81390190e-01]\n",
            " [4.32926929e-03 6.30470157e-01]\n",
            " [1.98802337e-01 5.44103747e-03]\n",
            " [4.29746285e-02 7.34743357e-01]\n",
            " [2.47711644e-01 6.63130164e-01]\n",
            " [4.44367528e-01 2.68280059e-02]\n",
            " [5.94688281e-02 7.62894690e-01]\n",
            " [6.49000704e-01 4.33194637e-03]\n",
            " [4.78129089e-01 1.21106781e-01]\n",
            " [7.49786273e-02 1.27498597e-01]\n",
            " [5.28544843e-01 1.32029401e-02]\n",
            " [3.30086291e-01 2.60215197e-02]\n",
            " [4.12393659e-01 6.14346325e-01]\n",
            " [2.73606241e-01 1.94498077e-02]\n",
            " [4.61525053e-01 3.37198749e-02]\n",
            " [3.12296808e-01 1.20109431e-02]\n",
            " [5.74597754e-02 5.71670532e-01]\n",
            " [5.57108760e-01 1.24508038e-01]\n",
            " [1.34987207e-02 9.14190948e-01]\n",
            " [5.62222481e-01 7.35419169e-02]\n",
            " [1.23158768e-02 8.84095013e-01]\n",
            " [5.59949689e-02 9.00062859e-01]\n",
            " [2.11115018e-01 4.45941418e-01]\n",
            " [5.60703337e-01 2.44493410e-01]\n",
            " [6.87019050e-01 5.66010643e-03]\n",
            " [5.16967833e-01 1.20505236e-01]\n",
            " [6.92711651e-01 1.43720573e-02]\n",
            " [1.08475894e-01 3.98124784e-01]\n",
            " [4.51839417e-02 6.54654741e-01]\n",
            " [3.70704025e-01 3.37815106e-01]\n",
            " [2.60629342e-03 3.22559744e-01]\n",
            " [4.88824509e-02 7.52966642e-01]\n",
            " [1.39836445e-01 6.59373760e-01]\n",
            " [1.31906986e-01 1.47257524e-03]\n",
            " [5.95931262e-02 8.04099321e-01]\n",
            " [2.91711211e-01 6.55718088e-01]\n",
            " [2.54265592e-02 6.23521686e-01]\n",
            " [2.65900671e-01 5.89390658e-03]\n",
            " [5.30602872e-01 2.69904464e-01]\n",
            " [1.15358949e-01 7.03570068e-01]\n",
            " [6.47584260e-01 5.27605135e-03]\n",
            " [7.29422390e-01 1.44125065e-02]\n",
            " [8.46333355e-02 7.40066707e-01]\n",
            " [2.75507830e-02 8.21653485e-01]\n",
            " [1.87927485e-02 9.30030107e-01]\n",
            " [3.04765195e-01 1.51142836e-01]\n",
            " [3.57631743e-01 4.51349933e-03]\n",
            " [6.07649088e-01 5.27396973e-04]\n",
            " [6.05369434e-02 8.78039360e-01]\n",
            " [1.53787518e-02 8.55112731e-01]\n",
            " [2.23198254e-03 6.75453544e-01]\n",
            " [2.03181175e-03 8.47488880e-01]\n",
            " [2.23633542e-04 7.55275548e-01]\n",
            " [4.27572727e-02 5.01072049e-01]\n",
            " [4.93572831e-01 1.44906417e-02]\n",
            " [4.94099498e-01 1.32220369e-02]\n",
            " [2.25737393e-01 4.26179975e-01]\n",
            " [6.55152082e-01 1.68042369e-02]]\n"
          ]
        }
      ]
    },
    {
      "cell_type": "markdown",
      "source": [
        "**model.predict() gives the prediction probability of each class for that data point**"
      ],
      "metadata": {
        "id": "0Iy2m89hIlue"
      }
    },
    {
      "cell_type": "code",
      "source": [
        "#  argmax function\n",
        "\n",
        "my_list = [0.25, 0.56]\n",
        "\n",
        "index_of_max_value = np.argmax(my_list)\n",
        "print(my_list)\n",
        "print(index_of_max_value)"
      ],
      "metadata": {
        "colab": {
          "base_uri": "https://localhost:8080/"
        },
        "id": "VM718sAyIoqv",
        "outputId": "f7fbea62-3d0e-4e7b-d6f8-a375a91f08d0"
      },
      "execution_count": 33,
      "outputs": [
        {
          "output_type": "stream",
          "name": "stdout",
          "text": [
            "[0.25, 0.56]\n",
            "1\n"
          ]
        }
      ]
    },
    {
      "cell_type": "code",
      "source": [
        "# converting the prediction probability to class labels\n",
        "\n",
        "Y_pred_labels = [np.argmax(i) for i in Y_pred]\n",
        "print(Y_pred_labels)"
      ],
      "metadata": {
        "colab": {
          "base_uri": "https://localhost:8080/"
        },
        "id": "St5ljiB4JAt1",
        "outputId": "157f817f-5b07-462f-f843-7ae7d8690585"
      },
      "execution_count": 34,
      "outputs": [
        {
          "output_type": "stream",
          "name": "stdout",
          "text": [
            "[1, 1, 1, 0, 0, 0, 1, 1, 1, 1, 1, 1, 1, 1, 1, 0, 1, 1, 1, 0, 1, 1, 1, 1, 1, 0, 1, 1, 0, 0, 1, 1, 1, 0, 0, 1, 1, 1, 1, 1, 0, 0, 1, 1, 0, 1, 1, 1, 0, 0, 1, 0, 1, 1, 1, 1, 1, 1, 0, 1, 1, 0, 1, 0, 0, 1, 0, 0, 1, 0, 0, 0, 1, 0, 1, 0, 1, 1, 1, 0, 0, 0, 0, 1, 1, 0, 1, 1, 1, 0, 1, 1, 1, 0, 0, 1, 0, 0, 1, 1, 1, 0, 0, 0, 1, 1, 1, 1, 1, 1, 0, 0, 1, 0]\n"
          ]
        }
      ]
    },
    {
      "cell_type": "markdown",
      "source": [
        "**Building the predictive system**"
      ],
      "metadata": {
        "id": "lO1Tp5vLJFuL"
      }
    },
    {
      "cell_type": "code",
      "source": [
        "input_data = (11.76,21.6,74.72,427.9,0.08637,0.04966,0.01657,0.01115,0.1495,0.05888,0.4062,1.21,2.635,28.47,0.005857,0.009758,0.01168,0.007445,0.02406,0.001769,12.98,25.72,82.98,516.5,0.1085,0.08615,0.05523,0.03715,0.2433,0.06563)\n",
        "\n",
        "# change the input_data to a numpy array\n",
        "input_data_as_numpy_array = np.asarray(input_data)\n",
        "\n",
        "# reshape the numpy array as we are predicting for one data point\n",
        "input_data_reshaped = input_data_as_numpy_array.reshape(1,-1)\n",
        "\n",
        "# standardizing the input data\n",
        "input_data_std = scaler.transform(input_data_reshaped)\n",
        "\n",
        "prediction = model.predict(input_data_std)\n",
        "print(prediction)\n",
        "\n",
        "prediction_label = [np.argmax(prediction)]\n",
        "print(prediction_label)\n",
        "\n",
        "if(prediction_label[0] == 0):\n",
        "  print('The tumor is Malignant')\n",
        "\n",
        "else:\n",
        "  print('The tumor is Benign')"
      ],
      "metadata": {
        "colab": {
          "base_uri": "https://localhost:8080/"
        },
        "id": "kAdVH1FTJH4V",
        "outputId": "3ce51d19-01ae-4a98-9d09-01e27abb270a"
      },
      "execution_count": 35,
      "outputs": [
        {
          "output_type": "stream",
          "name": "stdout",
          "text": [
            "1/1 [==============================] - 0s 26ms/step\n",
            "[[0.0361522 0.7464454]]\n",
            "[1]\n",
            "The tumor is Benign\n"
          ]
        },
        {
          "output_type": "stream",
          "name": "stderr",
          "text": [
            "/usr/local/lib/python3.10/dist-packages/sklearn/base.py:439: UserWarning: X does not have valid feature names, but StandardScaler was fitted with feature names\n",
            "  warnings.warn(\n"
          ]
        }
      ]
    }
  ]
}